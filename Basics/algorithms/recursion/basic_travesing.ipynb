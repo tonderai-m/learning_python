{
 "cells": [
  {
   "cell_type": "code",
   "execution_count": 1,
   "metadata": {},
   "outputs": [],
   "source": [
    "root = { 'data': 'A', 'children': \n",
    "            [ {'data': 'B', 'children':[{'data': 'D', 'children': []}]}, \n",
    "              {'data': 'C', 'children':[{'data': 'E', 'children': \n",
    "                                            [{'data': 'G', 'children': []},{'data': 'H', 'children': []}]},\n",
    "                                        {'data': 'F', 'children': []}]}\n",
    "            ]\n",
    "        }"
   ]
  },
  {
   "cell_type": "code",
   "execution_count": 2,
   "metadata": {},
   "outputs": [
    {
     "name": "stdout",
     "output_type": "stream",
     "text": [
      "A B D C E G H F "
     ]
    }
   ],
   "source": [
    "def preorderTraverse(node):\n",
    "    print(node['data'], end=' ') # Access this node's data.\n",
    "    if len(node['children']) > 0:\n",
    "        # RECURSIVE CASE\n",
    "        for child in node['children']:\n",
    "            preorderTraverse(child) # Traverse child nodes.\n",
    "    # BASE CASE\n",
    "    return\n",
    "preorderTraverse(root)"
   ]
  },
  {
   "cell_type": "code",
   "execution_count": 3,
   "metadata": {},
   "outputs": [
    {
     "name": "stdout",
     "output_type": "stream",
     "text": [
      "D B G H E F C A "
     ]
    }
   ],
   "source": [
    "def postorderTraverse(node):\n",
    "    if len(node['children']) > 0:\n",
    "        # RECURSIVE CASE\n",
    "        for child in node['children']:\n",
    "            postorderTraverse(child) # Traverse child nodes.\n",
    "    print(node['data'], end=' ') # Access this node's data.\n",
    "    # BASE CASE\n",
    "    return\n",
    "postorderTraverse(root)"
   ]
  },
  {
   "cell_type": "code",
   "execution_count": 4,
   "metadata": {},
   "outputs": [
    {
     "name": "stdout",
     "output_type": "stream",
     "text": [
      "D B A G E H C F "
     ]
    }
   ],
   "source": [
    "def inorderTraverse(node):\n",
    "    if len(node['children']) >= 1:\n",
    "    # RECURSIVE CASE\n",
    "        inorderTraverse(node['children'][0]) # Traverse the left child.\n",
    "    print(node['data'], end=' ') # Access this node's data.\n",
    "    if len(node['children']) >= 2:\n",
    "    # RECURSIVE CASE\n",
    "        inorderTraverse(node['children'][1]) # Traverse the right child.\n",
    "        # BASE CASE\n",
    "    return\n",
    "inorderTraverse(root)"
   ]
  },
  {
   "cell_type": "code",
   "execution_count": 5,
   "metadata": {},
   "outputs": [
    {
     "name": "stdout",
     "output_type": "stream",
     "text": [
      " Visiting node Alice...\n",
      "Checking if Alice is 8 letters...\n",
      " Visiting node Bob...\n",
      "Checking if Bob is 8 letters...\n",
      " Visiting node Darya...\n",
      "Checking if Darya is 8 letters...\n",
      " Visiting node Caroline...\n",
      "Checking if Caroline is 8 letters...\n",
      "Found an 8-letter name: Caroline\n"
     ]
    }
   ],
   "source": [
    "root = {'name': 'Alice', 'children': [{'name': 'Bob', 'children':\n",
    "[{'name': 'Darya', 'children': []}]}, {'name': 'Caroline',\n",
    "'children': [{'name': 'Eve', 'children': [{'name': 'Gonzalo',\n",
    "'children': []}, {'name': 'Hadassah', 'children': []}]}, {'name': 'Fred',\n",
    "'children': []}]}]}\n",
    "\n",
    "\n",
    "def find8LetterName(node):\n",
    "    print(' Visiting node ' + node['name'] + '...')\n",
    "    # Preorder depth-first search:\n",
    "    print('Checking if ' + node['name'] + ' is 8 letters...')\n",
    "    if len(node['name']) == 8: return node['name'] # BASE CASE\n",
    "    if len(node['children']) > 0:\n",
    "        # RECURSIVE CASE\n",
    "        for child in node['children']:\n",
    "            returnValue = find8LetterName(child)\n",
    "            if returnValue != None:\n",
    "                    return returnValue\n",
    "    # Postorder depth-first search:\n",
    "    #print('Checking if ' + node['name'] + ' is 8 letters...')\n",
    "    #if len(node['name']) == 8: return node['name'] # BASE CASE\n",
    "    # Value was not found or there are no children.\n",
    "    return None # BASE CASE\n",
    "print('Found an 8-letter name: ' + str(find8LetterName(root)))"
   ]
  }
 ],
 "metadata": {
  "kernelspec": {
   "display_name": "py3jp",
   "language": "python",
   "name": "python3"
  },
  "language_info": {
   "codemirror_mode": {
    "name": "ipython",
    "version": 3
   },
   "file_extension": ".py",
   "mimetype": "text/x-python",
   "name": "python",
   "nbconvert_exporter": "python",
   "pygments_lexer": "ipython3",
   "version": "3.12.2"
  }
 },
 "nbformat": 4,
 "nbformat_minor": 2
}
