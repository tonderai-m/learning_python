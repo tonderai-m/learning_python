{
 "cells": [
  {
   "cell_type": "code",
   "execution_count": 10,
   "metadata": {},
   "outputs": [
    {
     "name": "stdout",
     "output_type": "stream",
     "text": [
      "The \"with\" statement\n",
      "********************\n",
      "\n",
      "The \"with\" statement is used to wrap the execution of a block with\n",
      "methods defined by a context manager (see section With Statement\n",
      "Context Managers). This allows common \"try\"…\"except\"…\"finally\" usage\n",
      "patterns to be encapsulated for convenient reuse.\n",
      "\n",
      "   with_stmt          ::= \"with\" ( \"(\" with_stmt_contents \",\"? \")\" | with_stmt_contents ) \":\" suite\n",
      "   with_stmt_contents ::= with_item (\",\" with_item)*\n",
      "   with_item          ::= expression [\"as\" target]\n",
      "\n",
      "The execution of the \"with\" statement with one “item” proceeds as\n",
      "follows:\n",
      "\n",
      "1. The context expression (the expression given in the \"with_item\") is\n",
      "   evaluated to obtain a context manager.\n",
      "\n",
      "2. The context manager’s \"__enter__()\" is loaded for later use.\n",
      "\n",
      "3. The context manager’s \"__exit__()\" is loaded for later use.\n",
      "\n",
      "4. The context manager’s \"__enter__()\" method is invoked.\n",
      "\n",
      "5. If a target was included in the \"with\" statement, the return value\n",
      "   from \"__enter__()\" is assigned to it.\n",
      "\n",
      "   Note:\n",
      "\n",
      "     The \"with\" statement guarantees that if the \"__enter__()\" method\n",
      "     returns without an error, then \"__exit__()\" will always be\n",
      "     called. Thus, if an error occurs during the assignment to the\n",
      "     target list, it will be treated the same as an error occurring\n",
      "     within the suite would be. See step 7 below.\n",
      "\n",
      "6. The suite is executed.\n",
      "\n",
      "7. The context manager’s \"__exit__()\" method is invoked.  If an\n",
      "   exception caused the suite to be exited, its type, value, and\n",
      "   traceback are passed as arguments to \"__exit__()\". Otherwise, three\n",
      "   \"None\" arguments are supplied.\n",
      "\n",
      "   If the suite was exited due to an exception, and the return value\n",
      "   from the \"__exit__()\" method was false, the exception is reraised.\n",
      "   If the return value was true, the exception is suppressed, and\n",
      "   execution continues with the statement following the \"with\"\n",
      "   statement.\n",
      "\n",
      "   If the suite was exited for any reason other than an exception, the\n",
      "   return value from \"__exit__()\" is ignored, and execution proceeds\n",
      "   at the normal location for the kind of exit that was taken.\n",
      "\n",
      "The following code:\n",
      "\n",
      "   with EXPRESSION as TARGET:\n",
      "       SUITE\n",
      "\n",
      "is semantically equivalent to:\n",
      "\n",
      "   manager = (EXPRESSION)\n",
      "   enter = type(manager).__enter__\n",
      "   exit = type(manager).__exit__\n",
      "   value = enter(manager)\n",
      "   hit_except = False\n",
      "\n",
      "   try:\n",
      "       TARGET = value\n",
      "       SUITE\n",
      "   except:\n",
      "       hit_except = True\n",
      "       if not exit(manager, *sys.exc_info()):\n",
      "           raise\n",
      "   finally:\n",
      "       if not hit_except:\n",
      "           exit(manager, None, None, None)\n",
      "\n",
      "With more than one item, the context managers are processed as if\n",
      "multiple \"with\" statements were nested:\n",
      "\n",
      "   with A() as a, B() as b:\n",
      "       SUITE\n",
      "\n",
      "is semantically equivalent to:\n",
      "\n",
      "   with A() as a:\n",
      "       with B() as b:\n",
      "           SUITE\n",
      "\n",
      "You can also write multi-item context managers in multiple lines if\n",
      "the items are surrounded by parentheses. For example:\n",
      "\n",
      "   with (\n",
      "       A() as a,\n",
      "       B() as b,\n",
      "   ):\n",
      "       SUITE\n",
      "\n",
      "Changed in version 3.1: Support for multiple context expressions.\n",
      "\n",
      "Changed in version 3.10: Support for using grouping parentheses to\n",
      "break the statement in multiple lines.\n",
      "\n",
      "See also:\n",
      "\n",
      "  **PEP 343** - The “with” statement\n",
      "     The specification, background, and examples for the Python \"with\"\n",
      "     statement.\n",
      "\n",
      "Related help topics: CONTEXTMANAGERS, EXCEPTIONS, yield\n",
      "\n"
     ]
    }
   ],
   "source": [
    "help('with')"
   ]
  },
  {
   "cell_type": "code",
   "execution_count": 57,
   "metadata": {},
   "outputs": [
    {
     "name": "stdout",
     "output_type": "stream",
     "text": [
      "[\n",
      "    {\n",
      "        \"stationId\": \"A1\",\n",
      "        \"name\": \"สุวรรณภูมิ\",\n",
      "        \"nameEng\": \"Suvamabhumi\",\n",
      "        \"geoLat\": \"13.698430460292863\",\n",
      "        \"geoLng\": \"100.75222224366766\",\n",
      "        \"lineName\": \"แอร์พอร์ต เรล ลิงก์\",\n",
      "        \"lineNameEng\": \"Airport Rail Link\",\n",
      "        \"lineColorHex\": \"#0332F8\",\n"
     ]
    }
   ],
   "source": [
    "# cat/head to peak the data \n",
    "!head \"../Data/thailand_public_train.json\""
   ]
  },
  {
   "cell_type": "code",
   "execution_count": 58,
   "metadata": {},
   "outputs": [],
   "source": [
    "import pprint\n",
    "import json"
   ]
  },
  {
   "cell_type": "code",
   "execution_count": 59,
   "metadata": {},
   "outputs": [],
   "source": [
    "g = open(\"../Data/thailand_public_train.json\", \"r\")\n",
    "g_loaded = json.load(g)"
   ]
  },
  {
   "cell_type": "code",
   "execution_count": 68,
   "metadata": {},
   "outputs": [
    {
     "name": "stdout",
     "output_type": "stream",
     "text": [
      "{'stationId': 'A1', 'name': 'สุวรรณภูมิ', 'nameEng': 'Suvamabhumi', 'geoLat': '13.698430460292863', 'geoLng': '100.75222224366766', 'lineName': 'แอร์พอร์ต เรล ลิงก์', 'lineNameEng': 'Airport Rail Link', 'lineColorHex': '#0332F8', 'lineServiceName': 'AIRPORTLINK'}\n",
      "<class 'list'>\n",
      "123\n"
     ]
    }
   ],
   "source": [
    "print(g_loaded[0])\n",
    "print(type(g_loaded))\n",
    "print(len(g_loaded))"
   ]
  }
 ],
 "metadata": {
  "kernelspec": {
   "display_name": "new_ml_practice",
   "language": "python",
   "name": "python3"
  },
  "language_info": {
   "codemirror_mode": {
    "name": "ipython",
    "version": 3
   },
   "file_extension": ".py",
   "mimetype": "text/x-python",
   "name": "python",
   "nbconvert_exporter": "python",
   "pygments_lexer": "ipython3",
   "version": "3.11.9"
  }
 },
 "nbformat": 4,
 "nbformat_minor": 2
}
