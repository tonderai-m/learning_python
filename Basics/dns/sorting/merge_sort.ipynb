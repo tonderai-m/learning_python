{
 "cells": [
  {
   "cell_type": "markdown",
   "metadata": {},
   "source": [
    "#### lets make a merge list "
   ]
  },
  {
   "cell_type": "code",
   "execution_count": 21,
   "metadata": {},
   "outputs": [],
   "source": [
    "import importlib #In case you add chances to packages use reload to reload \n",
    "import func.functions as randme "
   ]
  },
  {
   "cell_type": "code",
   "execution_count": 22,
   "metadata": {},
   "outputs": [
    {
     "data": {
      "text/plain": [
       "<module 'func.functions' from '/Users/tonderaimadamba/playground/learning_python/Basics/packages/func/functions.py'>"
      ]
     },
     "execution_count": 22,
     "metadata": {},
     "output_type": "execute_result"
    }
   ],
   "source": [
    "importlib.reload(randme)"
   ]
  },
  {
   "cell_type": "code",
   "execution_count": 19,
   "metadata": {},
   "outputs": [
    {
     "data": {
      "text/plain": [
       "[8, 8, 1, 2, 9, -1, -3, 2, 0, -4, -1, 2, 1, 7, 2]"
      ]
     },
     "execution_count": 19,
     "metadata": {},
     "output_type": "execute_result"
    }
   ],
   "source": [
    "randme.rand_gen(15,10,False,-5)"
   ]
  },
  {
   "cell_type": "code",
   "execution_count": null,
   "metadata": {},
   "outputs": [],
   "source": [
    "def fib(x):\n",
    "    if x < 2:\n",
    "        return 1\n",
    "    return fib(x-1) + fib(x-2)\n",
    "\n",
    "def series_fib(x):\n",
    "    arr = [0,1]\n",
    "    for i in range(x):\n",
    "        arr.append(arr[-1] + arr[-2])\n",
    "    return arr[-1]\n",
    "\n",
    "def fib_l(x):\n",
    "    a,b = 0, 1\n",
    "    for i in range(x):\n",
    "        b,a= b+a, b\n",
    "    return b"
   ]
  }
 ],
 "metadata": {
  "kernelspec": {
   "display_name": "py3jp",
   "language": "python",
   "name": "python3"
  },
  "language_info": {
   "codemirror_mode": {
    "name": "ipython",
    "version": 3
   },
   "file_extension": ".py",
   "mimetype": "text/x-python",
   "name": "python",
   "nbconvert_exporter": "python",
   "pygments_lexer": "ipython3",
   "version": "3.12.2"
  }
 },
 "nbformat": 4,
 "nbformat_minor": 2
}
