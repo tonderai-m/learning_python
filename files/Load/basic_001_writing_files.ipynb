{
 "cells": [
  {
   "cell_type": "markdown",
   "metadata": {},
   "source": [
    "Watch the video it's really good: <a href=\"https://www.google.com/search?client=firefox-b-1-d&sca_esv=b03240a8c8c560a1&sca_upv=1&q=how+to+show+all+the+open+context+in+python&tbm=vid&source=lnms&fbs=AEQNm0AVbySjNxIXoj6bNaq7uSpwmIS0gJlXN_LWYh5RkW9UG_J2iT2scTJ59gCgVXw95w_JAb-I9YA98pkPPMDYsF9TEp1adEIfdeuT0i415BWx7Eyb8kskuvhVxAm6TIwY4u3anMek-w9Ob1DSg76Ra6D51pZvG_4KotVtznn_G337AZrgm4Iq0ZQjXo2I6P3P9PFzgqCs_Rw_PmDUlVX8OaUFu08NZw&sa=X&ved=2ahUKEwiU3qrd_JWHAxXUmO4BHeCjASUQ0pQJegQIDRAB&biw=1395&bih=654&dpr=2#fpstate=ive&vld=cid:bba9e876,vid:i3iqByWM7ic,st:0\"> this is on with statements</a>"
   ]
  },
  {
   "cell_type": "code",
   "execution_count": 1,
   "metadata": {},
   "outputs": [
    {
     "name": "stdout",
     "output_type": "stream",
     "text": [
      "The \"with\" statement\n",
      "********************\n",
      "\n",
      "The \"with\" statement is used to wrap the execution of a block with\n",
      "methods defined by a context manager (see section With Statement\n",
      "Context Managers). This allows common \"try\"…\"except\"…\"finally\" usage\n",
      "patterns to be encapsulated for convenient reuse.\n",
      "\n",
      "   with_stmt          ::= \"with\" ( \"(\" with_stmt_contents \",\"? \")\" | with_stmt_contents ) \":\" suite\n",
      "   with_stmt_contents ::= with_item (\",\" with_item)*\n",
      "   with_item          ::= expression [\"as\" target]\n",
      "\n",
      "The execution of the \"with\" statement with one “item” proceeds as\n",
      "follows:\n",
      "\n",
      "1. The context expression (the expression given in the \"with_item\") is\n",
      "   evaluated to obtain a context manager.\n",
      "\n",
      "2. The context manager’s \"__enter__()\" is loaded for later use.\n",
      "\n",
      "3. The context manager’s \"__exit__()\" is loaded for later use.\n",
      "\n",
      "4. The context manager’s \"__enter__()\" method is invoked.\n",
      "\n",
      "5. If a target was included in the \"with\" statement, the return value\n",
      "   from \"__enter__()\" is assigned to it.\n",
      "\n",
      "   Note:\n",
      "\n",
      "     The \"with\" statement guarantees that if the \"__enter__()\" method\n",
      "     returns without an error, then \"__exit__()\" will always be\n",
      "     called. Thus, if an error occurs during the assignment to the\n",
      "     target list, it will be treated the same as an error occurring\n",
      "     within the suite would be. See step 7 below.\n",
      "\n",
      "6. The suite is executed.\n",
      "\n",
      "7. The context manager’s \"__exit__()\" method is invoked.  If an\n",
      "   exception caused the suite to be exited, its type, value, and\n",
      "   traceback are passed as arguments to \"__exit__()\". Otherwise, three\n",
      "   \"None\" arguments are supplied.\n",
      "\n",
      "   If the suite was exited due to an exception, and the return value\n",
      "   from the \"__exit__()\" method was false, the exception is reraised.\n",
      "   If the return value was true, the exception is suppressed, and\n",
      "   execution continues with the statement following the \"with\"\n",
      "   statement.\n",
      "\n",
      "   If the suite was exited for any reason other than an exception, the\n",
      "   return value from \"__exit__()\" is ignored, and execution proceeds\n",
      "   at the normal location for the kind of exit that was taken.\n",
      "\n",
      "The following code:\n",
      "\n",
      "   with EXPRESSION as TARGET:\n",
      "       SUITE\n",
      "\n",
      "is semantically equivalent to:\n",
      "\n",
      "   manager = (EXPRESSION)\n",
      "   enter = type(manager).__enter__\n",
      "   exit = type(manager).__exit__\n",
      "   value = enter(manager)\n",
      "   hit_except = False\n",
      "\n",
      "   try:\n",
      "       TARGET = value\n",
      "       SUITE\n",
      "   except:\n",
      "       hit_except = True\n",
      "       if not exit(manager, *sys.exc_info()):\n",
      "           raise\n",
      "   finally:\n",
      "       if not hit_except:\n",
      "           exit(manager, None, None, None)\n",
      "\n",
      "With more than one item, the context managers are processed as if\n",
      "multiple \"with\" statements were nested:\n",
      "\n",
      "   with A() as a, B() as b:\n",
      "       SUITE\n",
      "\n",
      "is semantically equivalent to:\n",
      "\n",
      "   with A() as a:\n",
      "       with B() as b:\n",
      "           SUITE\n",
      "\n",
      "You can also write multi-item context managers in multiple lines if\n",
      "the items are surrounded by parentheses. For example:\n",
      "\n",
      "   with (\n",
      "       A() as a,\n",
      "       B() as b,\n",
      "   ):\n",
      "       SUITE\n",
      "\n",
      "Changed in version 3.1: Support for multiple context expressions.\n",
      "\n",
      "Changed in version 3.10: Support for using grouping parentheses to\n",
      "break the statement in multiple lines.\n",
      "\n",
      "See also:\n",
      "\n",
      "  **PEP 343** - The “with” statement\n",
      "     The specification, background, and examples for the Python \"with\"\n",
      "     statement.\n",
      "\n",
      "Related help topics: CONTEXTMANAGERS, EXCEPTIONS, yield\n",
      "\n"
     ]
    }
   ],
   "source": [
    "help('with')"
   ]
  },
  {
   "cell_type": "code",
   "execution_count": 2,
   "metadata": {},
   "outputs": [],
   "source": [
    "# Standard opening and writing a file named myfile.txt \n",
    "f = open(\"myfile.txt\", 'w')"
   ]
  },
  {
   "cell_type": "code",
   "execution_count": 3,
   "metadata": {},
   "outputs": [],
   "source": [
    "!cat myfile.txt"
   ]
  },
  {
   "cell_type": "code",
   "execution_count": 4,
   "metadata": {},
   "outputs": [],
   "source": [
    "f.write(\"rice\\nbeef\\nmeans\\n\")\n",
    "!cat myfile.txt"
   ]
  },
  {
   "cell_type": "code",
   "execution_count": 5,
   "metadata": {},
   "outputs": [
    {
     "name": "stdout",
     "output_type": "stream",
     "text": [
      "basic_001_writing_files.ipynb myfile.txt\n",
      "json.ipynb                    with_statement.ipynb\n"
     ]
    }
   ],
   "source": [
    "!ls"
   ]
  },
  {
   "cell_type": "code",
   "execution_count": 6,
   "metadata": {},
   "outputs": [
    {
     "name": "stdout",
     "output_type": "stream",
     "text": [
      "rice\n",
      "beef\n",
      "means\n"
     ]
    }
   ],
   "source": [
    "f.flush()\n",
    "!cat myfile.txt"
   ]
  },
  {
   "cell_type": "code",
   "execution_count": 7,
   "metadata": {},
   "outputs": [
    {
     "data": {
      "text/plain": [
       "False"
      ]
     },
     "execution_count": 7,
     "metadata": {},
     "output_type": "execute_result"
    }
   ],
   "source": [
    "f.closed"
   ]
  },
  {
   "cell_type": "code",
   "execution_count": 8,
   "metadata": {},
   "outputs": [
    {
     "data": {
      "text/plain": [
       "True"
      ]
     },
     "execution_count": 8,
     "metadata": {},
     "output_type": "execute_result"
    }
   ],
   "source": [
    "f.close()\n",
    "f.closed"
   ]
  },
  {
   "cell_type": "code",
   "execution_count": 9,
   "metadata": {},
   "outputs": [],
   "source": [
    "from os import system"
   ]
  },
  {
   "cell_type": "code",
   "execution_count": 10,
   "metadata": {},
   "outputs": [],
   "source": [
    "# dunder object is a object with the bottom lines __I'm dunder__"
   ]
  },
  {
   "cell_type": "code",
   "execution_count": 11,
   "metadata": {},
   "outputs": [
    {
     "name": "stdout",
     "output_type": "stream",
     "text": [
      "This is crazy\n",
      "0\n",
      "This is crazy\n",
      "0\n"
     ]
    }
   ],
   "source": [
    "with open(\"myfile.txt\", 'w') as g:\n",
    "    g.write(\"This is crazy\\n\")\n",
    "    g.flush()\n",
    "    print(system(\"cat myfile.txt\"))\n",
    "    g.write(\"This won't print\")\n",
    "    print(system(\"cat myfile.txt\"))"
   ]
  },
  {
   "cell_type": "code",
   "execution_count": 12,
   "metadata": {},
   "outputs": [
    {
     "name": "stdout",
     "output_type": "stream",
     "text": [
      "This is crazy\n",
      "This won't print"
     ]
    },
    {
     "data": {
      "text/plain": [
       "0"
      ]
     },
     "execution_count": 12,
     "metadata": {},
     "output_type": "execute_result"
    }
   ],
   "source": [
    "# Will save buffer is still going on and the system will save to memory on closing\n",
    "system(\"cat myfile.txt\") "
   ]
  }
 ],
 "metadata": {
  "kernelspec": {
   "display_name": "new_ml_practice",
   "language": "python",
   "name": "python3"
  },
  "language_info": {
   "codemirror_mode": {
    "name": "ipython",
    "version": 3
   },
   "file_extension": ".py",
   "mimetype": "text/x-python",
   "name": "python",
   "nbconvert_exporter": "python",
   "pygments_lexer": "ipython3",
   "version": "3.11.9"
  }
 },
 "nbformat": 4,
 "nbformat_minor": 2
}
