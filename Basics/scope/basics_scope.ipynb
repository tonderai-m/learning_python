{
 "cells": [
  {
   "cell_type": "code",
   "execution_count": 2,
   "metadata": {},
   "outputs": [
    {
     "name": "stdout",
     "output_type": "stream",
     "text": [
      "this is good\n",
      "this is good\n",
      "this is inner\n",
      "this is good\n"
     ]
    }
   ],
   "source": [
    "# This is what scope is it's defined with in itself so anytime you create function you basically creating an autonomous entity \n",
    "\n",
    "pi = 8 \n",
    "def new_functions():\n",
    "    a =  \"this is good\"\n",
    "\n",
    "    def inner_func():\n",
    "        a = \"this is inner\"\n",
    "        print(a)\n",
    "\n",
    "    def inner_fun():\n",
    "        print(a)\n",
    "    \n",
    "    inner_fun()\n",
    "    print(a)\n",
    "    inner_func()\n",
    "    print(a)\n",
    "    \n",
    "\n",
    "new_functions()"
   ]
  }
 ],
 "metadata": {
  "kernelspec": {
   "display_name": "py3jp",
   "language": "python",
   "name": "python3"
  },
  "language_info": {
   "codemirror_mode": {
    "name": "ipython",
    "version": 3
   },
   "file_extension": ".py",
   "mimetype": "text/x-python",
   "name": "python",
   "nbconvert_exporter": "python",
   "pygments_lexer": "ipython3",
   "version": "3.12.2"
  }
 },
 "nbformat": 4,
 "nbformat_minor": 2
}
