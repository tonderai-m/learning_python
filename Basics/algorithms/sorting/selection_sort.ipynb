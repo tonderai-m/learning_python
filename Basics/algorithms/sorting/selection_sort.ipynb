{
 "cells": [
  {
   "cell_type": "code",
   "execution_count": 10,
   "metadata": {},
   "outputs": [],
   "source": [
    "import random "
   ]
  },
  {
   "cell_type": "code",
   "execution_count": 94,
   "metadata": {},
   "outputs": [
    {
     "data": {
      "text/plain": [
       "[94, -78, 52, -39, -52, 8, -60, 79, 72, -61]"
      ]
     },
     "execution_count": 94,
     "metadata": {},
     "output_type": "execute_result"
    }
   ],
   "source": [
    "arr = [ random.randint(-100,100) for i in range(10)]\n",
    "arr "
   ]
  },
  {
   "cell_type": "code",
   "execution_count": 92,
   "metadata": {},
   "outputs": [],
   "source": [
    "# Rules to follow \n",
    "# Rule One \n",
    "# You want it to start with a cut point from right to left \n",
    "# so you dont have to sort any thing if it gets smaller and smaller \n",
    "\n",
    "def selection(arr,idx):\n",
    "    # this range function is to take the next box and also to be one less \n",
    "    # than the max index not to throw an error \n",
    "    for i in range(idx+1,len(arr)):\n",
    "        if arr[i] < arr[idx]:\n",
    "            arr[i],arr[idx] = arr[idx],arr[i]\n",
    "    return arr \n",
    "\n",
    "def sel_sorting(arr):\n",
    "    for i in range(len(arr)):\n",
    "        selection(arr,i)\n",
    "    return arr\n"
   ]
  },
  {
   "cell_type": "code",
   "execution_count": 95,
   "metadata": {},
   "outputs": [
    {
     "data": {
      "text/plain": [
       "[-78, -61, -60, -52, -39, 8, 52, 72, 79, 94]"
      ]
     },
     "execution_count": 95,
     "metadata": {},
     "output_type": "execute_result"
    }
   ],
   "source": [
    "sel_sorting(arr)"
   ]
  },
  {
   "cell_type": "code",
   "execution_count": 91,
   "metadata": {},
   "outputs": [
    {
     "data": {
      "text/plain": [
       "[7, 8, 9]"
      ]
     },
     "execution_count": 91,
     "metadata": {},
     "output_type": "execute_result"
    }
   ],
   "source": [
    "list(range(6+1,len(arr)))"
   ]
  }
 ],
 "metadata": {
  "kernelspec": {
   "display_name": "py3jp",
   "language": "python",
   "name": "python3"
  },
  "language_info": {
   "codemirror_mode": {
    "name": "ipython",
    "version": 3
   },
   "file_extension": ".py",
   "mimetype": "text/x-python",
   "name": "python",
   "nbconvert_exporter": "python",
   "pygments_lexer": "ipython3",
   "version": "3.12.2"
  }
 },
 "nbformat": 4,
 "nbformat_minor": 2
}
