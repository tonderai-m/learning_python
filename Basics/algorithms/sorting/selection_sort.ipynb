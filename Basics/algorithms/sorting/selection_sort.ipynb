{
 "cells": [
  {
   "cell_type": "code",
   "execution_count": 10,
   "metadata": {},
   "outputs": [],
   "source": [
    "import random "
   ]
  },
  {
   "cell_type": "code",
   "execution_count": 94,
   "metadata": {},
   "outputs": [
    {
     "data": {
      "text/plain": [
       "[94, -78, 52, -39, -52, 8, -60, 79, 72, -61]"
      ]
     },
     "execution_count": 94,
     "metadata": {},
     "output_type": "execute_result"
    }
   ],
   "source": [
    "arr = [ random.randint(-100,100) for i in range(10)]\n",
    "arr "
   ]
  },
  {
   "cell_type": "code",
   "execution_count": 92,
   "metadata": {},
   "outputs": [],
   "source": [
    "# Rules to follow \n",
    "# Rule One \n",
    "# You want it to start with a cut point from right to left \n",
    "# so you dont have to sort any thing if it gets smaller and smaller \n",
    "\n",
    "def selection(arr,idx):\n",
    "    # this range function is to take the next box and also to be one less \n",
    "    # than the max index not to throw an error \n",
    "    for i in range(idx+1,len(arr)):\n",
    "        if arr[i] < arr[idx]:\n",
    "            arr[i],arr[idx] = arr[idx],arr[i]\n",
    "    return arr \n",
    "\n",
    "def sel_sorting(arr):\n",
    "    for i in range(len(arr)):\n",
    "        selection(arr,i)\n",
    "    return arr\n"
   ]
  },
  {
   "cell_type": "code",
   "execution_count": 95,
   "metadata": {},
   "outputs": [
    {
     "data": {
      "text/plain": [
       "[-78, -61, -60, -52, -39, 8, 52, 72, 79, 94]"
      ]
     },
     "execution_count": 95,
     "metadata": {},
     "output_type": "execute_result"
    }
   ],
   "source": [
    "sel_sorting(arr)"
   ]
  },
  {
   "cell_type": "code",
   "execution_count": 91,
   "metadata": {},
   "outputs": [
    {
     "data": {
      "text/plain": [
       "[7, 8, 9]"
      ]
     },
     "execution_count": 91,
     "metadata": {},
     "output_type": "execute_result"
    }
   ],
   "source": [
    "list(range(6+1,len(arr)))"
   ]
  },
  {
   "cell_type": "markdown",
   "metadata": {},
   "source": [
    "**Top Interview Questions for Data Science Freshers: ML, NLP, and Statistics** - Part 2\n",
    "\n",
    " **Machine Learning Questions** \n",
    "1. Why does scaling features matter for algorithms like SVM or K-means, and when is it unnecessary? \n",
    "2. In ensemble methods like Random Forest, why does increasing the number of trees sometimes stop improving accuracy? \n",
    "3. Why might a model with high cross-validation accuracy still perform poorly on unseen test data? \n",
    "4. Why is the R-squared metric not always a good indicator of model performance in regression? \n",
    "5. If you have missing data, why might deleting rows or filling them with the mean not always be ideal? \n",
    "\n",
    " **Natural Language Processing Questions** \n",
    "1. Why do transformer-based models like BERT or GPT outperform traditional RNNs in NLP tasks? \n",
    "2. How would you decide between using TF-IDF and Word2Vec for text vectorization? \n",
    "3. Why might fine-tuning a pre-trained model like GPT yield better results than training from scratch? \n",
    "4. If your NLP model generates irrelevant outputs, why might the temperature parameter be a factor? \n",
    "5. Why is named entity recognition (NER) a challenging task, and how would you handle ambiguous entities? \n",
    "\n",
    "**Statistics Questions** \n",
    "1. Why is the Central Limit Theorem important for data scientists working with small sample sizes? \n",
    "2. How would you explain the difference between Type I and Type II errors, and why do both matter? \n",
    "3. Why does multicollinearity affect regression models, and how can techniques like PCA help? \n",
    "4. In hypothesis testing, why might a very small p-value still lead to incorrect conclusions? \n",
    "5. Why is standard deviation preferred over variance when interpreting data spread? \n",
    "\n",
    "**Scenario-Based Questions** \n",
    "1. If you’re working with a streaming dataset, why might batch processing not be suitable, and what alternatives would you consider? \n",
    "2. Your model is performing well on training data but poorly on validation data. Why might regularization not always solve this? \n",
    "3. A client insists on using deep learning for a small dataset. Why might this backfire, and how would you explain the risks? \n",
    "4. Why might removing outliers improve a regression model’s performance but harm a classification model? \n",
    "5. You have a perfectly balanced dataset but still experience poor classification accuracy. Why might the class separability be the issue? \n",
    "\n",
    "These questions are designed to go beyond theory and test how you approach real-world challenges. Remember, as a data scientist, your ability to explain *why* things happen is just as important as your technical skills. \n",
    "\n",
    "Which of these questions made you stop and think? 🤔"
   ]
  },
  {
   "cell_type": "markdown",
   "metadata": {},
   "source": []
  }
 ],
 "metadata": {
  "kernelspec": {
   "display_name": "py3jp",
   "language": "python",
   "name": "python3"
  },
  "language_info": {
   "codemirror_mode": {
    "name": "ipython",
    "version": 3
   },
   "file_extension": ".py",
   "mimetype": "text/x-python",
   "name": "python",
   "nbconvert_exporter": "python",
   "pygments_lexer": "ipython3",
   "version": "3.12.2"
  }
 },
 "nbformat": 4,
 "nbformat_minor": 2
}
