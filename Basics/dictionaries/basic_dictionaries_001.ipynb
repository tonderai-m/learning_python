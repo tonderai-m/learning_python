{
 "cells": [
  {
   "cell_type": "markdown",
   "metadata": {},
   "source": [
    "# lets start with the basics of making Dataframes without read "
   ]
  },
  {
   "cell_type": "markdown",
   "metadata": {},
   "source": [
    "The first part is really to start with list let's say that we have a list of employees names and salary and their ages"
   ]
  },
  {
   "cell_type": "code",
   "execution_count": 1,
   "metadata": {},
   "outputs": [],
   "source": [
    "import random \n",
    "import pandas as pd"
   ]
  },
  {
   "cell_type": "code",
   "execution_count": 2,
   "metadata": {},
   "outputs": [
    {
     "name": "stdout",
     "output_type": "stream",
     "text": [
      "\u001b[0;31mInit signature:\u001b[0m \u001b[0mdict\u001b[0m\u001b[0;34m(\u001b[0m\u001b[0mself\u001b[0m\u001b[0;34m,\u001b[0m \u001b[0;34m/\u001b[0m\u001b[0;34m,\u001b[0m \u001b[0;34m*\u001b[0m\u001b[0margs\u001b[0m\u001b[0;34m,\u001b[0m \u001b[0;34m**\u001b[0m\u001b[0mkwargs\u001b[0m\u001b[0;34m)\u001b[0m\u001b[0;34m\u001b[0m\u001b[0;34m\u001b[0m\u001b[0m\n",
      "\u001b[0;31mDocstring:\u001b[0m     \n",
      "dict() -> new empty dictionary\n",
      "dict(mapping) -> new dictionary initialized from a mapping object's\n",
      "    (key, value) pairs\n",
      "dict(iterable) -> new dictionary initialized as if via:\n",
      "    d = {}\n",
      "    for k, v in iterable:\n",
      "        d[k] = v\n",
      "dict(**kwargs) -> new dictionary initialized with the name=value pairs\n",
      "    in the keyword argument list.  For example:  dict(one=1, two=2)\n",
      "\u001b[0;31mType:\u001b[0m           type\n",
      "\u001b[0;31mSubclasses:\u001b[0m     OrderedDict, defaultdict, Counter, _EnumDict, _Quoter, Bunch, ObjectDict, ConvertingDict, Config, _DefaultOptionDict, ..."
     ]
    }
   ],
   "source": [
    "?dict"
   ]
  },
  {
   "cell_type": "code",
   "execution_count": 3,
   "metadata": {},
   "outputs": [],
   "source": [
    "names = [\"Thomas\",\"James\",\"Saru\", \"Prosper\",\n",
    "         \"Tonde\",\"Tarisai\",\"Kundai\", \"Victor\",\n",
    "         \"Bob\",\"Chale\", \"Bigman\", \"Thomas\",\n",
    "         \"Jeffrey\", \"Samantha\", \"Chloe\", \"Alexis\",\n",
    "         \"Jane\", \"John\", \"Kanye\", \"Kim\"]"
   ]
  },
  {
   "cell_type": "code",
   "execution_count": 4,
   "metadata": {},
   "outputs": [],
   "source": [
    "cities = [ \"Landon\", \"Paris\", \"Chirugwi\", \"Harare\", \"Bulawayo\", \n",
    "             \"Masvingo\", \"Gweru\", \"Mutare\", \"Polokwane\", \"Tete\" ]\n",
    "\n",
    "# Desired structure\n",
    "\n",
    "geographic = {\n",
    "    \"city\" : {\n",
    "        \"latitude\": \"000000\",\n",
    "        \"longitude\": \"000000\"\n",
    "    }\n",
    "}"
   ]
  },
  {
   "cell_type": "code",
   "execution_count": 5,
   "metadata": {},
   "outputs": [
    {
     "data": {
      "text/plain": [
       "{'Landon': {'latitude': 24.83125756, 'longitude': 67.27807944},\n",
       " 'Paris': {'latitude': 46.81435834, 'longitude': 57.04418472},\n",
       " 'Chirugwi': {'latitude': 43.0706195, 'longitude': 90.08907149},\n",
       " 'Harare': {'latitude': 52.85935035, 'longitude': 62.53104932},\n",
       " 'Bulawayo': {'latitude': 90.18251078, 'longitude': 88.98459512},\n",
       " 'Masvingo': {'latitude': 22.58607304, 'longitude': 45.00574773},\n",
       " 'Gweru': {'latitude': 15.65348205, 'longitude': 52.51830019},\n",
       " 'Mutare': {'latitude': 98.52683206, 'longitude': 69.41390793},\n",
       " 'Polokwane': {'latitude': 89.6645651, 'longitude': 12.71242037},\n",
       " 'Tete': {'latitude': 40.93055223, 'longitude': 76.52099873}}"
      ]
     },
     "execution_count": 5,
     "metadata": {},
     "output_type": "execute_result"
    }
   ],
   "source": [
    "geographic = {} # Empty dictionary \n",
    "for i in cities:\n",
    "    geographic[i]={ \n",
    "        \"latitude\" : round(random.uniform(10,99),8),\n",
    "        \"longitude\" : round(random.uniform(10,99),8) }\n",
    "\n",
    "geographic"
   ]
  },
  {
   "cell_type": "code",
   "execution_count": 6,
   "metadata": {},
   "outputs": [
    {
     "data": {
      "text/plain": [
       "'Landon'"
      ]
     },
     "execution_count": 6,
     "metadata": {},
     "output_type": "execute_result"
    }
   ],
   "source": [
    "random.choice(list(geographic))"
   ]
  },
  {
   "cell_type": "code",
   "execution_count": 7,
   "metadata": {},
   "outputs": [
    {
     "data": {
      "text/plain": [
       "{'Thomas': {'Tete': {'latitude': 40.93055223, 'longitude': 76.52099873}},\n",
       " 'James': {'Harare': {'latitude': 52.85935035, 'longitude': 62.53104932}},\n",
       " 'Saru': {'Paris': {'latitude': 46.81435834, 'longitude': 57.04418472}},\n",
       " 'Prosper': {'Harare': {'latitude': 52.85935035, 'longitude': 62.53104932}},\n",
       " 'Tonde': {'Chirugwi': {'latitude': 43.0706195, 'longitude': 90.08907149}},\n",
       " 'Tarisai': {'Mutare': {'latitude': 98.52683206, 'longitude': 69.41390793}},\n",
       " 'Kundai': {'Harare': {'latitude': 52.85935035, 'longitude': 62.53104932}},\n",
       " 'Victor': {'Polokwane': {'latitude': 89.6645651, 'longitude': 12.71242037}},\n",
       " 'Bob': {'Harare': {'latitude': 52.85935035, 'longitude': 62.53104932}},\n",
       " 'Chale': {'Polokwane': {'latitude': 89.6645651, 'longitude': 12.71242037}},\n",
       " 'Bigman': {'Tete': {'latitude': 40.93055223, 'longitude': 76.52099873}},\n",
       " 'Jeffrey': {'Polokwane': {'latitude': 89.6645651, 'longitude': 12.71242037}},\n",
       " 'Samantha': {'Mutare': {'latitude': 98.52683206, 'longitude': 69.41390793}},\n",
       " 'Chloe': {'Polokwane': {'latitude': 89.6645651, 'longitude': 12.71242037}},\n",
       " 'Alexis': {'Masvingo': {'latitude': 22.58607304, 'longitude': 45.00574773}},\n",
       " 'Jane': {'Tete': {'latitude': 40.93055223, 'longitude': 76.52099873}},\n",
       " 'John': {'Mutare': {'latitude': 98.52683206, 'longitude': 69.41390793}},\n",
       " 'Kanye': {'Chirugwi': {'latitude': 43.0706195, 'longitude': 90.08907149}},\n",
       " 'Kim': {'Polokwane': {'latitude': 89.6645651, 'longitude': 12.71242037}}}"
      ]
     },
     "execution_count": 7,
     "metadata": {},
     "output_type": "execute_result"
    }
   ],
   "source": [
    "complete_dict = {i: { k : geographic[k]} for i in names for k in [random.choice(list(geographic)) for i in range(len(names))] }\n",
    "complete_dict"
   ]
  },
  {
   "cell_type": "code",
   "execution_count": 8,
   "metadata": {},
   "outputs": [],
   "source": [
    "complete_dict[(\"this is silly\",\"extremely silly\")] = {\"nothing _ dict\" : \"nothing here to \"}"
   ]
  },
  {
   "cell_type": "code",
   "execution_count": 9,
   "metadata": {},
   "outputs": [
    {
     "data": {
      "text/plain": [
       "(('this is silly', 'extremely silly'), {'nothing _ dict': 'nothing here to '})"
      ]
     },
     "execution_count": 9,
     "metadata": {},
     "output_type": "execute_result"
    }
   ],
   "source": [
    "complete_dict.popitem()"
   ]
  },
  {
   "cell_type": "code",
   "execution_count": 10,
   "metadata": {},
   "outputs": [
    {
     "data": {
      "text/plain": [
       "{'Thomas': {'Tete': {'latitude': 40.93055223, 'longitude': 76.52099873}},\n",
       " 'James': {'Harare': {'latitude': 52.85935035, 'longitude': 62.53104932}},\n",
       " 'Saru': {'Paris': {'latitude': 46.81435834, 'longitude': 57.04418472}},\n",
       " 'Prosper': {'Harare': {'latitude': 52.85935035, 'longitude': 62.53104932}},\n",
       " 'Tonde': {'Chirugwi': {'latitude': 43.0706195, 'longitude': 90.08907149}},\n",
       " 'Tarisai': {'Mutare': {'latitude': 98.52683206, 'longitude': 69.41390793}},\n",
       " 'Kundai': {'Harare': {'latitude': 52.85935035, 'longitude': 62.53104932}},\n",
       " 'Victor': {'Polokwane': {'latitude': 89.6645651, 'longitude': 12.71242037}},\n",
       " 'Bob': {'Harare': {'latitude': 52.85935035, 'longitude': 62.53104932}},\n",
       " 'Chale': {'Polokwane': {'latitude': 89.6645651, 'longitude': 12.71242037}},\n",
       " 'Bigman': {'Tete': {'latitude': 40.93055223, 'longitude': 76.52099873}},\n",
       " 'Jeffrey': {'Polokwane': {'latitude': 89.6645651, 'longitude': 12.71242037}},\n",
       " 'Samantha': {'Mutare': {'latitude': 98.52683206, 'longitude': 69.41390793}},\n",
       " 'Chloe': {'Polokwane': {'latitude': 89.6645651, 'longitude': 12.71242037}},\n",
       " 'Alexis': {'Masvingo': {'latitude': 22.58607304, 'longitude': 45.00574773}},\n",
       " 'Jane': {'Tete': {'latitude': 40.93055223, 'longitude': 76.52099873}},\n",
       " 'John': {'Mutare': {'latitude': 98.52683206, 'longitude': 69.41390793}},\n",
       " 'Kanye': {'Chirugwi': {'latitude': 43.0706195, 'longitude': 90.08907149}},\n",
       " 'Kim': {'Polokwane': {'latitude': 89.6645651, 'longitude': 12.71242037}}}"
      ]
     },
     "execution_count": 10,
     "metadata": {},
     "output_type": "execute_result"
    }
   ],
   "source": [
    "complete_dict"
   ]
  }
 ],
 "metadata": {
  "kernelspec": {
   "display_name": "new_ml_practice",
   "language": "python",
   "name": "python3"
  },
  "language_info": {
   "codemirror_mode": {
    "name": "ipython",
    "version": 3
   },
   "file_extension": ".py",
   "mimetype": "text/x-python",
   "name": "python",
   "nbconvert_exporter": "python",
   "pygments_lexer": "ipython3",
   "version": "3.11.9"
  }
 },
 "nbformat": 4,
 "nbformat_minor": 2
}
