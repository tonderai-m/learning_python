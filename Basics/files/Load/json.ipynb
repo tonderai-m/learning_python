{
 "cells": [
  {
   "cell_type": "code",
   "execution_count": 10,
   "metadata": {},
   "outputs": [],
   "source": [
    "from os import system "
   ]
  },
  {
   "cell_type": "code",
   "execution_count": 18,
   "metadata": {},
   "outputs": [
    {
     "name": "stdout",
     "output_type": "stream",
     "text": [
      "{\"_id\":{\"$oid\":\"5b4aa4ead3089013507db18b\"},\"bestsellers_date\":{\"$date\":{\"$numberLong\":\"1211587200000\"}},\"published_date\":{\"$date\":{\"$numberLong\":\"1212883200000\"}},\"amazon_product_url\":\"http://www.amazon.com/Odd-Hours-Dean-Koontz/dp/0553807056?tag=NYTBS-20\",\"author\":\"Dean R Koontz\",\"description\":\"Odd Thomas, who can communicate with the dead, confronts evil forces in a California coastal town.\",\"price\":{\"$numberInt\":\"27\"},\"publisher\":\"Bantam\",\"title\":\"ODD HOURS\",\"rank\":{\"$numberInt\":\"1\"},\"rank_last_week\":{\"$numberInt\":\"0\"},\"weeks_on_list\":{\"$numberInt\":\"1\"}}\n",
      "{\"_id\":{\"$oid\":\"5b4aa4ead3089013507db18c\"},\"bestsellers_date\":{\"$date\":{\"$numberLong\":\"1211587200000\"}},\"published_date\":{\"$date\":{\"$numberLong\":\"1212883200000\"}},\"amazon_product_url\":\"http://www.amazon.com/The-Host-Novel-Stephenie-Meyer/dp/0316218502?tag=NYTBS-20\",\"author\":\"Stephenie Meyer\",\"description\":\"Aliens have taken control of the minds and bodies of most humans, but one woman won’t surrender.\",\"price\":{\"$numberDouble\":\"25"
     ]
    },
    {
     "data": {
      "text/plain": [
       "0"
      ]
     },
     "execution_count": 18,
     "metadata": {},
     "output_type": "execute_result"
    },
    {
     "name": "stdout",
     "output_type": "stream",
     "text": [
      ".99\"},\"publisher\":\"Little, Brown\",\"title\":\"THE HOST\",\"rank\":{\"$numberInt\":\"2\"},\"rank_last_week\":{\"$numberInt\":\"1\"},\"weeks_on_list\":{\"$numberInt\":\"3\"}}\n"
     ]
    }
   ],
   "source": [
    "system(\"head -2 ../Data/nyt2.json\")"
   ]
  },
  {
   "cell_type": "code",
   "execution_count": 1,
   "metadata": {},
   "outputs": [],
   "source": [
    "with open(\"../Data/nyt2.json\", \"r\") as f:  # Open the file with the incorrect extension\n",
    "  lines = f.readlines()  "
   ]
  },
  {
   "cell_type": "code",
   "execution_count": 19,
   "metadata": {},
   "outputs": [
    {
     "data": {
      "text/plain": [
       "['{\"_id\":{\"$oid\":\"5b4aa4ead3089013507db18b\"},\"bestsellers_date\":{\"$date\":{\"$numberLong\":\"1211587200000\"}},\"published_date\":{\"$date\":{\"$numberLong\":\"1212883200000\"}},\"amazon_product_url\":\"http://www.amazon.com/Odd-Hours-Dean-Koontz/dp/0553807056?tag=NYTBS-20\",\"author\":\"Dean R Koontz\",\"description\":\"Odd Thomas, who can communicate with the dead, confronts evil forces in a California coastal town.\",\"price\":{\"$numberInt\":\"27\"},\"publisher\":\"Bantam\",\"title\":\"ODD HOURS\",\"rank\":{\"$numberInt\":\"1\"},\"rank_last_week\":{\"$numberInt\":\"0\"},\"weeks_on_list\":{\"$numberInt\":\"1\"}}\\n',\n",
       " '{\"_id\":{\"$oid\":\"5b4aa4ead3089013507db18c\"},\"bestsellers_date\":{\"$date\":{\"$numberLong\":\"1211587200000\"}},\"published_date\":{\"$date\":{\"$numberLong\":\"1212883200000\"}},\"amazon_product_url\":\"http://www.amazon.com/The-Host-Novel-Stephenie-Meyer/dp/0316218502?tag=NYTBS-20\",\"author\":\"Stephenie Meyer\",\"description\":\"Aliens have taken control of the minds and bodies of most humans, but one woman won’t surrender.\",\"price\":{\"$numberDouble\":\"25.99\"},\"publisher\":\"Little, Brown\",\"title\":\"THE HOST\",\"rank\":{\"$numberInt\":\"2\"},\"rank_last_week\":{\"$numberInt\":\"1\"},\"weeks_on_list\":{\"$numberInt\":\"3\"}}\\n',\n",
       " '{\"_id\":{\"$oid\":\"5b4aa4ead3089013507db18d\"},\"bestsellers_date\":{\"$date\":{\"$numberLong\":\"1211587200000\"}},\"published_date\":{\"$date\":{\"$numberLong\":\"1212883200000\"}},\"amazon_product_url\":\"http://www.amazon.com/Love-Youre-With-Emily-Giffin/dp/0312348665?tag=NYTBS-20\",\"author\":\"Emily Giffin\",\"description\":\"A woman\\'s happy marriage is shaken when she encounters an old boyfriend.\",\"price\":{\"$numberDouble\":\"24.95\"},\"publisher\":\"St. Martin\\'s\",\"title\":\"LOVE THE ONE YOU\\'RE WITH\",\"rank\":{\"$numberInt\":\"3\"},\"rank_last_week\":{\"$numberInt\":\"2\"},\"weeks_on_list\":{\"$numberInt\":\"2\"}}\\n']"
      ]
     },
     "execution_count": 19,
     "metadata": {},
     "output_type": "execute_result"
    }
   ],
   "source": [
    "lines[:3]"
   ]
  }
 ],
 "metadata": {
  "kernelspec": {
   "display_name": "new_ml_practice",
   "language": "python",
   "name": "python3"
  },
  "language_info": {
   "codemirror_mode": {
    "name": "ipython",
    "version": 3
   },
   "file_extension": ".py",
   "mimetype": "text/x-python",
   "name": "python",
   "nbconvert_exporter": "python",
   "pygments_lexer": "ipython3",
   "version": "3.11.9"
  }
 },
 "nbformat": 4,
 "nbformat_minor": 2
}
