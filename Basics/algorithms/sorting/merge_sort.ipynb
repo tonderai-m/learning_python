{
 "cells": [
  {
   "cell_type": "markdown",
   "metadata": {},
   "source": [
    "#### lets make a merge list "
   ]
  },
  {
   "cell_type": "code",
   "execution_count": 1,
   "metadata": {},
   "outputs": [],
   "source": [
    "import random "
   ]
  },
  {
   "cell_type": "code",
   "execution_count": 7,
   "metadata": {},
   "outputs": [],
   "source": [
    "arr = [ random.randint(0,100) for i in range(20)]\n",
    "arr.sort()"
   ]
  },
  {
   "cell_type": "code",
   "execution_count": 22,
   "metadata": {},
   "outputs": [],
   "source": [
    "a1,a2 = arr[:len(arr)//2], arr[len(arr)//2:]"
   ]
  },
  {
   "cell_type": "code",
   "execution_count": 23,
   "metadata": {},
   "outputs": [
    {
     "data": {
      "text/plain": [
       "([0, 0, 2, 5, 12, 19, 20, 26, 30, 35],\n",
       " [38, 53, 61, 62, 67, 72, 84, 87, 89, 92])"
      ]
     },
     "execution_count": 23,
     "metadata": {},
     "output_type": "execute_result"
    }
   ],
   "source": [
    "a1, a2"
   ]
  },
  {
   "cell_type": "code",
   "execution_count": 29,
   "metadata": {},
   "outputs": [],
   "source": [
    "i,j,k = 0,0,0\n",
    "lst = [0]*len(arr)\n",
    "while i < len(a1) and j < len(a2):\n",
    "    if a1[i] < a2[j]:\n",
    "        lst[k] = a1[i]\n",
    "        i += 1\n",
    "        k += 1\n",
    "    else: \n",
    "        lst[k] = a2[j]\n",
    "        j += 1\n",
    "        k += 1\n",
    "\n",
    "while i < len(a1): \n",
    "        lst[k] = a1[i]\n",
    "        i += 1\n",
    "        k += 1\n",
    "\n",
    "while j < len(a2):\n",
    "        lst[k] = a2[j]\n",
    "        j += 1\n",
    "        k += 1\n",
    "\n"
   ]
  },
  {
   "cell_type": "code",
   "execution_count": 30,
   "metadata": {},
   "outputs": [
    {
     "data": {
      "text/plain": [
       "[0, 0, 2, 5, 12, 19, 20, 26, 30, 35, 38, 53, 61, 62, 67, 72, 84, 87, 89, 92]"
      ]
     },
     "execution_count": 30,
     "metadata": {},
     "output_type": "execute_result"
    }
   ],
   "source": [
    "lst"
   ]
  },
  {
   "cell_type": "code",
   "execution_count": null,
   "metadata": {},
   "outputs": [],
   "source": [
    "def fib(x):\n",
    "    if x < 2:\n",
    "        return 1\n",
    "    return fib(x-1) + fib(x-2)\n",
    "\n",
    "def series_fib(x):\n",
    "    arr = [0,1]\n",
    "    for i in range(x):\n",
    "        arr.append(arr[-1] + arr[-2])\n",
    "    return arr[-1]\n",
    "\n",
    "def fib_l(x):\n",
    "    a,b = 0, 1\n",
    "    for i in range(x):\n",
    "        b,a= b+a, b\n",
    "    return b"
   ]
  },
  {
   "cell_type": "code",
   "execution_count": 101,
   "metadata": {},
   "outputs": [
    {
     "data": {
      "text/plain": [
       "8"
      ]
     },
     "execution_count": 101,
     "metadata": {},
     "output_type": "execute_result"
    }
   ],
   "source": [
    "fib(5)"
   ]
  },
  {
   "cell_type": "code",
   "execution_count": null,
   "metadata": {},
   "outputs": [],
   "source": []
  }
 ],
 "metadata": {
  "kernelspec": {
   "display_name": "py3jp",
   "language": "python",
   "name": "python3"
  },
  "language_info": {
   "codemirror_mode": {
    "name": "ipython",
    "version": 3
   },
   "file_extension": ".py",
   "mimetype": "text/x-python",
   "name": "python",
   "nbconvert_exporter": "python",
   "pygments_lexer": "ipython3",
   "version": "3.12.2"
  }
 },
 "nbformat": 4,
 "nbformat_minor": 2
}
