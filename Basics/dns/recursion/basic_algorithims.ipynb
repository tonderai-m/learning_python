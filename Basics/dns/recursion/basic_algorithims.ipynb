{
 "cells": [
  {
   "cell_type": "code",
   "execution_count": 1,
   "metadata": {},
   "outputs": [],
   "source": [
    "import func.functions as randme "
   ]
  },
  {
   "cell_type": "code",
   "execution_count": 10,
   "metadata": {},
   "outputs": [
    {
     "data": {
      "text/plain": [
       "[-20, -20, -16, -15, -3, -1, 0, 1, 4, 5, 7, 17, 17, 18, 20]"
      ]
     },
     "execution_count": 10,
     "metadata": {},
     "output_type": "execute_result"
    }
   ],
   "source": [
    "sample = randme.rand_gen(15,20,True,-20)\n",
    "sample"
   ]
  },
  {
   "cell_type": "code",
   "execution_count": 24,
   "metadata": {},
   "outputs": [
    {
     "name": "stdout",
     "output_type": "stream",
     "text": [
      "\n",
      "calling binary_search(9,[-20, -20, -16, -15, -3, -1, 0, 1, 4, 5, 7, 17, 17, 18])\n",
      "\n",
      "calling binary_search(9,[4, 5, 7, 17, 17, 18])\n",
      "\n",
      "calling binary_search(9,[4, 5])\n",
      "\n",
      "calling binary_search(9,[])\n",
      "\n",
      "calling binary_search(9,[])\n"
     ]
    },
    {
     "data": {
      "text/plain": [
       "'None existent term not available'"
      ]
     },
     "execution_count": 24,
     "metadata": {},
     "output_type": "execute_result"
    }
   ],
   "source": [
    "# key concepts of binary search \n",
    "# we not changing or altering the file in place \n",
    "# we do care that the structure and all indexes stay in place\n",
    "\n",
    "def binary_search(term, arr, left = None,  right = None):\n",
    "\n",
    "    if left is None:\n",
    "        left = 0\n",
    "\n",
    "    if right is None:\n",
    "        right = len(arr) - 1\n",
    "    \n",
    "    mid = (right + left) // 2\n",
    "\n",
    "    print(f\"\\ncalling binary_search({term},{arr[left:right]})\")\n",
    "\n",
    "    if left > right: \n",
    "        return \"None existent term not available\"\n",
    "    \n",
    "    if arr[mid] == term:\n",
    "        print(f\"We found {term} on index {mid}\")\n",
    "        return \n",
    "    \n",
    "    if arr[mid] > term:\n",
    "        return binary_search(term, arr, left, mid - 1 )\n",
    "    else: \n",
    "        return binary_search(term, arr, mid + 1, right)\n",
    "\n",
    "\n",
    "\n",
    "binary_search(9,sample)\n"
   ]
  },
  {
   "cell_type": "code",
   "execution_count": 25,
   "metadata": {},
   "outputs": [
    {
     "name": "stdout",
     "output_type": "stream",
     "text": [
      "\n",
      "calling binary_search(-3,[-20, -20, -16, -15, -3, -1, 0, 1, 4, 5, 7, 17, 17, 18])\n",
      "\n",
      "calling binary_search(-3,[-20, -20, -16, -15, -3, -1])\n",
      "\n",
      "calling binary_search(-3,[-3, -1])\n",
      "\n",
      "calling binary_search(-3,[])\n",
      "We found -3 on index 4\n"
     ]
    }
   ],
   "source": [
    "\n",
    "binary_search(-3,sample)"
   ]
  },
  {
   "cell_type": "code",
   "execution_count": 45,
   "metadata": {},
   "outputs": [
    {
     "data": {
      "text/plain": [
       "[26, -9, -8, 29, 10, 28, 30, 19, -10, 8, -10, -9, -3, 8, 16, 10]"
      ]
     },
     "execution_count": 45,
     "metadata": {},
     "output_type": "execute_result"
    }
   ],
   "source": [
    "unsorted_sample = randme.rand_gen(16,30,False,-10)\n",
    "unsorted_sample"
   ]
  },
  {
   "cell_type": "code",
   "execution_count": 63,
   "metadata": {},
   "outputs": [
    {
     "name": "stdout",
     "output_type": "stream",
     "text": [
      "\n",
      "pivot is 30\n",
      "quick_sort([-10, -10, -9, -9, -8, -3, 8, 8, 10, 10, 16, 19, 26, 28, 29, 30])\n",
      "after moving items based on pivot [-10, -10, -9, -9, -8, -3, 8, 8, 10, 10, 16, 19, 26, 28, 29, 30]\n",
      "after moving items based on pivot [-10, -10, -9, -9, -8, -3, 8, 8, 10, 10, 16, 19, 26, 28, 29, 30]\n",
      "next is  [-10, -10, -9, -9, -8, -3, 8, 8, 10, 10, 16, 19, 26, 28] []\n",
      "\n",
      "pivot is 29\n",
      "quick_sort([-10, -10, -9, -9, -8, -3, 8, 8, 10, 10, 16, 19, 26, 28, 29])\n",
      "after moving items based on pivot [-10, -10, -9, -9, -8, -3, 8, 8, 10, 10, 16, 19, 26, 28, 29]\n",
      "after moving items based on pivot [-10, -10, -9, -9, -8, -3, 8, 8, 10, 10, 16, 19, 26, 28, 29]\n",
      "next is  [-10, -10, -9, -9, -8, -3, 8, 8, 10, 10, 16, 19, 26] []\n",
      "\n",
      "pivot is 28\n",
      "quick_sort([-10, -10, -9, -9, -8, -3, 8, 8, 10, 10, 16, 19, 26, 28])\n",
      "after moving items based on pivot [-10, -10, -9, -9, -8, -3, 8, 8, 10, 10, 16, 19, 26, 28]\n",
      "after moving items based on pivot [-10, -10, -9, -9, -8, -3, 8, 8, 10, 10, 16, 19, 26, 28]\n",
      "next is  [-10, -10, -9, -9, -8, -3, 8, 8, 10, 10, 16, 19] []\n",
      "\n",
      "pivot is 26\n",
      "quick_sort([-10, -10, -9, -9, -8, -3, 8, 8, 10, 10, 16, 19, 26])\n",
      "after moving items based on pivot [-10, -10, -9, -9, -8, -3, 8, 8, 10, 10, 16, 19, 26]\n",
      "after moving items based on pivot [-10, -10, -9, -9, -8, -3, 8, 8, 10, 10, 16, 19, 26]\n",
      "next is  [-10, -10, -9, -9, -8, -3, 8, 8, 10, 10, 16] []\n",
      "\n",
      "pivot is 19\n",
      "quick_sort([-10, -10, -9, -9, -8, -3, 8, 8, 10, 10, 16, 19])\n",
      "after moving items based on pivot [-10, -10, -9, -9, -8, -3, 8, 8, 10, 10, 16, 19]\n",
      "after moving items based on pivot [-10, -10, -9, -9, -8, -3, 8, 8, 10, 10, 16, 19]\n",
      "next is  [-10, -10, -9, -9, -8, -3, 8, 8, 10, 10] []\n",
      "\n",
      "pivot is 16\n",
      "quick_sort([-10, -10, -9, -9, -8, -3, 8, 8, 10, 10, 16])\n",
      "after moving items based on pivot [-10, -10, -9, -9, -8, -3, 8, 8, 10, 10, 16]\n",
      "after moving items based on pivot [-10, -10, -9, -9, -8, -3, 8, 8, 10, 10, 16]\n",
      "next is  [-10, -10, -9, -9, -8, -3, 8, 8, 10] []\n",
      "\n",
      "pivot is 10\n",
      "quick_sort([-10, -10, -9, -9, -8, -3, 8, 8, 10, 10])\n",
      "after moving items based on pivot [-10, -10, -9, -9, -8, -3, 8, 8, 10, 10]\n",
      "after moving items based on pivot [-10, -10, -9, -9, -8, -3, 8, 8, 10, 10]\n",
      "next is  [-10, -10, -9, -9, -8, -3, 8] [10]\n",
      "\n",
      "pivot is 8\n",
      "quick_sort([-10, -10, -9, -9, -8, -3, 8, 8])\n",
      "after moving items based on pivot [-10, -10, -9, -9, -8, -3, 8, 8]\n",
      "after moving items based on pivot [-10, -10, -9, -9, -8, -3, 8, 8]\n",
      "next is  [-10, -10, -9, -9, -8] [8]\n",
      "\n",
      "pivot is -3\n",
      "quick_sort([-10, -10, -9, -9, -8, -3])\n",
      "after moving items based on pivot [-10, -10, -9, -9, -8, -3]\n",
      "after moving items based on pivot [-10, -10, -9, -9, -8, -3]\n",
      "next is  [-10, -10, -9, -9] []\n",
      "\n",
      "pivot is -8\n",
      "quick_sort([-10, -10, -9, -9, -8])\n",
      "after moving items based on pivot [-10, -10, -9, -9, -8]\n",
      "after moving items based on pivot [-10, -10, -9, -9, -8]\n",
      "next is  [-10, -10, -9] []\n",
      "\n",
      "pivot is -9\n",
      "quick_sort([-10, -10, -9, -9])\n",
      "after moving items based on pivot [-10, -10, -9, -9]\n",
      "after moving items based on pivot [-10, -10, -9, -9]\n",
      "next is  [-10] [-9]\n",
      "\n",
      "pivot is -10\n",
      "quick_sort([-10, -10])\n",
      "after moving items based on pivot [-10, -10]\n",
      "after moving items based on pivot [-10, -10]\n",
      "next is  [-10, -10, -9, -9, -8, -3, 8, 8, 10, 10, 16, 19, 26, 28, 29] [-10]\n",
      "\n",
      "returned sorted array [-10, -10, -9, -9, -8, -3, 8, 8, 10, 10, 16, 19, 26, 28, 29, 30]\n"
     ]
    }
   ],
   "source": [
    "# The whole idea of quick sort is to sort the pivots \n",
    "# The pivot is the right most element \n",
    "\n",
    "\n",
    "def quick_sort(arr, left = None, right = None):\n",
    "\n",
    "    if left is None:\n",
    "        left = 0\n",
    "\n",
    "    if right is None:\n",
    "        right = len(arr) - 1\n",
    "\n",
    "    if left >= right:\n",
    "        return arr\n",
    "    \n",
    "    i = left \n",
    "    pivot = arr[right]\n",
    "\n",
    "\n",
    "\n",
    "    print(f\"\\npivot is {pivot}\")\n",
    "    print(f\"quick_sort({arr[left:right + 1]})\")\n",
    "\n",
    "    for j in range(left,right):\n",
    "        if arr[j] < pivot:\n",
    "            arr[i], arr[j] = arr[j], arr[i]\n",
    "            i += 1\n",
    "\n",
    "    print(f\"after moving items based on pivot {arr[left:right + 1]}\")\n",
    "    # Insert the pivot \n",
    "    arr[i], arr[right] = arr[right], arr[i]\n",
    "\n",
    "    print(f\"after moving items based on pivot {arr[left:right + 1]}\")\n",
    "\n",
    "    print(f\"next is  {arr[left : i - 1]} {arr[i + 1 : right + 1]}\")\n",
    "\n",
    "\n",
    "    quick_sort(arr, i + 1, right)\n",
    "    quick_sort(arr, left, i - 1)\n",
    "\n",
    "        \n",
    "\n",
    "quick_sort(unsorted_sample)\n",
    "print(f\"\\nreturned sorted array {unsorted_sample}\")\n"
   ]
  },
  {
   "cell_type": "code",
   "execution_count": 76,
   "metadata": {},
   "outputs": [
    {
     "name": "stdout",
     "output_type": "stream",
     "text": [
      "\n",
      "calling merge_sort([-10, -10, -9, -9, -8, -3, 8, 8, 10, 10, 16, 19, 26, 28, 29, 30])\n",
      "splitted data [-10, -10, -9, -9, -8, -3, 8, 8] and [10, 10, 16, 19, 26, 28, 29, 30]\n",
      "\n",
      "calling merge_sort([-10, -10, -9, -9, -8, -3, 8, 8])\n",
      "splitted data [-10, -10, -9, -9] and [-8, -3, 8, 8]\n",
      "\n",
      "calling merge_sort([-10, -10, -9, -9])\n",
      "splitted data [-10, -10] and [-9, -9]\n",
      "\n",
      "calling merge_sort([-10, -10])\n",
      "splitted data [-10] and [-10]\n",
      "\n",
      "calling merge_sort([-10])\n",
      "\n",
      "calling merge_sort([-10])\n",
      "[-10]\n",
      "[-10]\n",
      "\n",
      "calling merge_sort([-9, -9])\n",
      "splitted data [-9] and [-9]\n",
      "\n",
      "calling merge_sort([-9])\n",
      "\n",
      "calling merge_sort([-9])\n",
      "[-9]\n",
      "[-9]\n",
      "None\n"
     ]
    },
    {
     "ename": "TypeError",
     "evalue": "object of type 'NoneType' has no len()",
     "output_type": "error",
     "traceback": [
      "\u001b[0;31m---------------------------------------------------------------------------\u001b[0m",
      "\u001b[0;31mTypeError\u001b[0m                                 Traceback (most recent call last)",
      "Cell \u001b[0;32mIn[76], line 35\u001b[0m\n\u001b[1;32m     27\u001b[0m         result \u001b[38;5;241m+\u001b[39m A\n\u001b[1;32m     31\u001b[0m     \u001b[38;5;28mprint\u001b[39m(result)\n\u001b[0;32m---> 35\u001b[0m \u001b[43mmerge_sort\u001b[49m\u001b[43m(\u001b[49m\u001b[43munsorted_sample\u001b[49m\u001b[43m)\u001b[49m\n",
      "Cell \u001b[0;32mIn[76], line 9\u001b[0m, in \u001b[0;36mmerge_sort\u001b[0;34m(arr)\u001b[0m\n\u001b[1;32m      5\u001b[0m     \u001b[38;5;28;01mreturn\u001b[39;00m arr\n\u001b[1;32m      7\u001b[0m \u001b[38;5;28mprint\u001b[39m(\u001b[38;5;124mf\u001b[39m\u001b[38;5;124m\"\u001b[39m\u001b[38;5;124msplitted data \u001b[39m\u001b[38;5;132;01m{\u001b[39;00marr[:\u001b[38;5;28mlen\u001b[39m(arr)\u001b[38;5;241m/\u001b[39m\u001b[38;5;241m/\u001b[39m\u001b[38;5;241m2\u001b[39m]\u001b[38;5;132;01m}\u001b[39;00m\u001b[38;5;124m and \u001b[39m\u001b[38;5;132;01m{\u001b[39;00marr[\u001b[38;5;28mlen\u001b[39m(arr)\u001b[38;5;241m/\u001b[39m\u001b[38;5;241m/\u001b[39m\u001b[38;5;241m2\u001b[39m:]\u001b[38;5;132;01m}\u001b[39;00m\u001b[38;5;124m\"\u001b[39m)\n\u001b[0;32m----> 9\u001b[0m A \u001b[38;5;241m=\u001b[39m \u001b[43mmerge_sort\u001b[49m\u001b[43m(\u001b[49m\u001b[43marr\u001b[49m\u001b[43m[\u001b[49m\u001b[43m:\u001b[49m\u001b[38;5;28;43mlen\u001b[39;49m\u001b[43m(\u001b[49m\u001b[43marr\u001b[49m\u001b[43m)\u001b[49m\u001b[38;5;241;43m/\u001b[39;49m\u001b[38;5;241;43m/\u001b[39;49m\u001b[38;5;241;43m2\u001b[39;49m\u001b[43m]\u001b[49m\u001b[43m)\u001b[49m\n\u001b[1;32m     10\u001b[0m B \u001b[38;5;241m=\u001b[39m merge_sort(arr[\u001b[38;5;28mlen\u001b[39m(arr)\u001b[38;5;241m/\u001b[39m\u001b[38;5;241m/\u001b[39m\u001b[38;5;241m2\u001b[39m:])\n\u001b[1;32m     12\u001b[0m result \u001b[38;5;241m=\u001b[39m []\n",
      "Cell \u001b[0;32mIn[76], line 9\u001b[0m, in \u001b[0;36mmerge_sort\u001b[0;34m(arr)\u001b[0m\n\u001b[1;32m      5\u001b[0m     \u001b[38;5;28;01mreturn\u001b[39;00m arr\n\u001b[1;32m      7\u001b[0m \u001b[38;5;28mprint\u001b[39m(\u001b[38;5;124mf\u001b[39m\u001b[38;5;124m\"\u001b[39m\u001b[38;5;124msplitted data \u001b[39m\u001b[38;5;132;01m{\u001b[39;00marr[:\u001b[38;5;28mlen\u001b[39m(arr)\u001b[38;5;241m/\u001b[39m\u001b[38;5;241m/\u001b[39m\u001b[38;5;241m2\u001b[39m]\u001b[38;5;132;01m}\u001b[39;00m\u001b[38;5;124m and \u001b[39m\u001b[38;5;132;01m{\u001b[39;00marr[\u001b[38;5;28mlen\u001b[39m(arr)\u001b[38;5;241m/\u001b[39m\u001b[38;5;241m/\u001b[39m\u001b[38;5;241m2\u001b[39m:]\u001b[38;5;132;01m}\u001b[39;00m\u001b[38;5;124m\"\u001b[39m)\n\u001b[0;32m----> 9\u001b[0m A \u001b[38;5;241m=\u001b[39m \u001b[43mmerge_sort\u001b[49m\u001b[43m(\u001b[49m\u001b[43marr\u001b[49m\u001b[43m[\u001b[49m\u001b[43m:\u001b[49m\u001b[38;5;28;43mlen\u001b[39;49m\u001b[43m(\u001b[49m\u001b[43marr\u001b[49m\u001b[43m)\u001b[49m\u001b[38;5;241;43m/\u001b[39;49m\u001b[38;5;241;43m/\u001b[39;49m\u001b[38;5;241;43m2\u001b[39;49m\u001b[43m]\u001b[49m\u001b[43m)\u001b[49m\n\u001b[1;32m     10\u001b[0m B \u001b[38;5;241m=\u001b[39m merge_sort(arr[\u001b[38;5;28mlen\u001b[39m(arr)\u001b[38;5;241m/\u001b[39m\u001b[38;5;241m/\u001b[39m\u001b[38;5;241m2\u001b[39m:])\n\u001b[1;32m     12\u001b[0m result \u001b[38;5;241m=\u001b[39m []\n",
      "Cell \u001b[0;32mIn[76], line 16\u001b[0m, in \u001b[0;36mmerge_sort\u001b[0;34m(arr)\u001b[0m\n\u001b[1;32m     12\u001b[0m result \u001b[38;5;241m=\u001b[39m []\n\u001b[1;32m     14\u001b[0m \u001b[38;5;28mprint\u001b[39m(A)\n\u001b[0;32m---> 16\u001b[0m \u001b[38;5;28;01mwhile\u001b[39;00m \u001b[38;5;28;43mlen\u001b[39;49m\u001b[43m(\u001b[49m\u001b[43mA\u001b[49m\u001b[43m)\u001b[49m \u001b[38;5;241m>\u001b[39m \u001b[38;5;241m0\u001b[39m \u001b[38;5;129;01mand\u001b[39;00m \u001b[38;5;28mlen\u001b[39m(B) \u001b[38;5;241m>\u001b[39m \u001b[38;5;241m0\u001b[39m :\n\u001b[1;32m     17\u001b[0m     \u001b[38;5;28;01mif\u001b[39;00m A[\u001b[38;5;241m0\u001b[39m] \u001b[38;5;241m>\u001b[39m B[\u001b[38;5;241m0\u001b[39m]:\n\u001b[1;32m     18\u001b[0m         result\u001b[38;5;241m.\u001b[39mappend(A\u001b[38;5;241m.\u001b[39mpop(\u001b[38;5;241m0\u001b[39m))\n",
      "\u001b[0;31mTypeError\u001b[0m: object of type 'NoneType' has no len()"
     ]
    }
   ],
   "source": [
    "def merge_sort(arr):\n",
    "    print(f\"\\ncalling merge_sort({arr})\")\n",
    "\n",
    "    if len(arr) < 2:\n",
    "        return arr\n",
    "    \n",
    "    print(f\"splitted data {arr[:len(arr)//2]} and {arr[len(arr)//2:]}\")\n",
    "    \n",
    "    A = merge_sort(arr[:len(arr)//2])\n",
    "    B = merge_sort(arr[len(arr)//2:])\n",
    "\n",
    "    result = []\n",
    "\n",
    "    print(A)\n",
    "\n",
    "    while len(A) > 0 and len(B) > 0 :\n",
    "        if A[0] > B[0]:\n",
    "            result.append(A.pop(0))\n",
    "\n",
    "        else:\n",
    "            result.append(B.pop(0))\n",
    "\n",
    "    if len(B) > 0:\n",
    "        result + B \n",
    "\n",
    "    if len(A) > 0:\n",
    "        result + A\n",
    "\n",
    "\n",
    "\n",
    "    print(result)\n",
    "\n",
    "\n",
    "\n",
    "merge_sort(unsorted_sample)"
   ]
  },
  {
   "cell_type": "code",
   "execution_count": null,
   "metadata": {},
   "outputs": [],
   "source": []
  },
  {
   "cell_type": "code",
   "execution_count": null,
   "metadata": {},
   "outputs": [],
   "source": []
  },
  {
   "cell_type": "code",
   "execution_count": null,
   "metadata": {},
   "outputs": [],
   "source": []
  },
  {
   "cell_type": "code",
   "execution_count": 10,
   "metadata": {},
   "outputs": [
    {
     "name": "stdout",
     "output_type": "stream",
     "text": [
      ".....mergeSort() called on: [2, 9, 8, 5, 3, 4, 7, 6]\n",
      "................Split into: [2, 9, 8, 5] and [3, 4, 7, 6]\n",
      ".....mergeSort() called on: [2, 9, 8, 5]\n",
      "................Split into: [2, 9] and [8, 5]\n",
      ".....mergeSort() called on: [2, 9]\n",
      "................Split into: [2] and [9]\n",
      ".....mergeSort() called on: [2]\n",
      ".....mergeSort() called on: [9]\n",
      ".....mergeSort() called on: [8, 5]\n",
      "................Split into: [8] and [5]\n",
      ".....mergeSort() called on: [8]\n",
      ".....mergeSort() called on: [5]\n",
      "The two halves merged into: [2]\n",
      "The two halves merged into: [2, 5]\n",
      ".....mergeSort() called on: [3, 4, 7, 6]\n",
      "................Split into: [3, 4] and [7, 6]\n",
      ".....mergeSort() called on: [3, 4]\n",
      "................Split into: [3] and [4]\n",
      ".....mergeSort() called on: [3]\n",
      ".....mergeSort() called on: [4]\n",
      ".....mergeSort() called on: [7, 6]\n",
      "................Split into: [7] and [6]\n",
      ".....mergeSort() called on: [7]\n",
      ".....mergeSort() called on: [6]\n",
      "The two halves merged into: [3]\n",
      "The two halves merged into: [2]\n",
      "The two halves merged into: [2, 3]\n",
      "The two halves merged into: [2, 3, 4]\n",
      "The two halves merged into: [2, 3, 4, 5]\n",
      "The two halves merged into: [2, 3, 4, 5, 6]\n",
      "[2, 3, 4, 5, 6, 7, 8, 9]\n"
     ]
    }
   ],
   "source": [
    "def mergeSort(items):\n",
    "    print('.....mergeSort() called on:', items)\n",
    "    # BASE CASE - Zero or one item is naturally sorted:\n",
    "    if len(items) == 0 or len(items) == 1:\n",
    "        return items\n",
    "    # RECURSIVE CASE - Pass the left and right halves to mergeSort():\n",
    "    # Round down if items doesn't divide in half evenly:\n",
    "    iMiddle = len(items) // 2\n",
    "    print('................Split into:', items[:iMiddle], 'and', items[iMiddle:])\n",
    "    left = mergeSort(items[:iMiddle])\n",
    "    right = mergeSort(items[iMiddle:])\n",
    "    # BASE CASE - Returned merged, sorted data:\n",
    "    # At this point, left should be sorted and right should be\n",
    "    # sorted. We can merge them into a single sorted list.\n",
    "    sortedResult = []\n",
    "    iLeft = 0\n",
    "    iRight = 0\n",
    "    while (len(sortedResult) < len(items)):\n",
    "        # Append the smaller value to sortedResult.\n",
    "        if left[iLeft] < right[iRight]:\n",
    "            sortedResult.append(left[iLeft])\n",
    "            iLeft += 1\n",
    "        else:\n",
    "            sortedResult.append(right[iRight])\n",
    "            iRight += 1\n",
    "        # If one of the pointers has reached the end of its list,\n",
    "        # put the rest of the other list into sortedResult.\n",
    "        if iLeft == len(left):\n",
    "            sortedResult.extend(right[iRight:])\n",
    "            break\n",
    "        elif iRight == len(right):\n",
    "            sortedResult.extend(left[iLeft:])\n",
    "            break\n",
    "        print('The two halves merged into:', sortedResult)\n",
    "    return sortedResult # Returns a sorted version of items.\n",
    "myList = [2, 9, 8, 5, 3, 4, 7, 6]\n",
    "myList = mergeSort(myList)\n",
    "print(myList)"
   ]
  }
 ],
 "metadata": {
  "kernelspec": {
   "display_name": "py3jp",
   "language": "python",
   "name": "python3"
  },
  "language_info": {
   "codemirror_mode": {
    "name": "ipython",
    "version": 3
   },
   "file_extension": ".py",
   "mimetype": "text/x-python",
   "name": "python",
   "nbconvert_exporter": "python",
   "pygments_lexer": "ipython3",
   "version": "3.12.2"
  }
 },
 "nbformat": 4,
 "nbformat_minor": 2
}
