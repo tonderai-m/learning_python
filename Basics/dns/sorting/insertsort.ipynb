{
 "cells": [
  {
   "cell_type": "markdown",
   "metadata": {},
   "source": [
    "# [Insert Sort](https://medium.com/python-in-plain-english/the-two-pointer-pattern-a-must-have-skill-for-every-coder-a792b0d0617d) \n"
   ]
  },
  {
   "cell_type": "code",
   "execution_count": 1,
   "metadata": {},
   "outputs": [],
   "source": [
    "import random "
   ]
  },
  {
   "cell_type": "code",
   "execution_count": 31,
   "metadata": {},
   "outputs": [
    {
     "data": {
      "text/plain": [
       "[-8, -5, -4, -3, -2, -1, 0, 3, 3, 10, 12, 16, 17, 18, 18, 18, 19, 19, 20]"
      ]
     },
     "execution_count": 31,
     "metadata": {},
     "output_type": "execute_result"
    }
   ],
   "source": [
    "def rand_gen(x,y,z = False, w = 1):\n",
    "    arr =  [random.randint(w,y) for i in range(x)]\n",
    "    return sorted(arr) if z == True else arr\n",
    "\n",
    "\n",
    "arr = rand_gen(19,20,True,-8)\n",
    "arr"
   ]
  },
  {
   "cell_type": "code",
   "execution_count": 34,
   "metadata": {},
   "outputs": [
    {
     "name": "stdout",
     "output_type": "stream",
     "text": [
      "0\n",
      "12\n",
      "10\n",
      "3\n"
     ]
    }
   ],
   "source": [
    "arr\n",
    "j = 11\n",
    "key = arr[11]\n",
    "while key < arr[j-1] and j > 0:\n",
    "    arr[j] = arr[j-1]\n",
    "    j -= 1"
   ]
  },
  {
   "cell_type": "code",
   "execution_count": 37,
   "metadata": {},
   "outputs": [
    {
     "data": {
      "text/plain": [
       "[-8, -5, -4, -3, -2, -1, 0, 0, 3, 3, 10, 12, 17, 18, 18, 18, 19, 19, 20]"
      ]
     },
     "execution_count": 37,
     "metadata": {},
     "output_type": "execute_result"
    }
   ],
   "source": [
    "arr[j] = 0\n",
    "arr"
   ]
  },
  {
   "cell_type": "code",
   "execution_count": 71,
   "metadata": {},
   "outputs": [
    {
     "data": {
      "text/plain": [
       "[14, -5, -4, 1, 1]"
      ]
     },
     "execution_count": 71,
     "metadata": {},
     "output_type": "execute_result"
    }
   ],
   "source": [
    "arr = rand_gen(5,20,False,-8)\n",
    "arr"
   ]
  },
  {
   "cell_type": "code",
   "execution_count": 73,
   "metadata": {},
   "outputs": [],
   "source": [
    "def insertSort(arr):\n",
    "    n = len(arr)\n",
    "    for i in range(1,n):\n",
    "        num =  arr[i]\n",
    "        j = i - 1\n",
    "        while num < arr[j] and j >= 0:\n",
    "            arr[j + 1] = arr[j]\n",
    "            j -= 1\n",
    "            print(j)\n",
    "\n",
    "        arr[j+1] = num\n",
    "\n"
   ]
  },
  {
   "cell_type": "code",
   "execution_count": 74,
   "metadata": {},
   "outputs": [],
   "source": [
    "insertSort(arr)"
   ]
  },
  {
   "cell_type": "code",
   "execution_count": 75,
   "metadata": {},
   "outputs": [
    {
     "data": {
      "text/plain": [
       "[-5, -4, 1, 1, 14]"
      ]
     },
     "execution_count": 75,
     "metadata": {},
     "output_type": "execute_result"
    },
    {
     "name": "stderr",
     "output_type": "stream",
     "text": [
      "Bad pipe message: %s [b'g\\x0c^\\xc9<\\xeb\\xd0\\xe9?|\\xc4uv\\n\\xdd\\xa0\\x19\\xd7 =\\xe5y`\\xfbnq\\xa5\\x84\\xe8\\xcc\\x1e2\\r\\r\\xf2j\\x15H&\\xc2\\xaf\\x8f#\\xfc\\xe1\\x1e\\xc5\\xff6\\xb1*\\x00*']\n",
      "Bad pipe message: %s [b'\\x13\\x01\\x13\\x02\\x13\\x03\\xc0,\\xc0+\\xcc\\xa9\\xc00\\xc0/\\xcc\\xa8\\xc0\\n\\xc0\\t\\xc0\\x14\\xc0\\x13\\x00\\x9d\\x00\\x9c\\x005\\x00/\\xc0\\x08\\xc0\\x12\\x00\\n\\x01\\x00\\x01\\x89jj\\x00\\x00\\x00\\x17\\x00\\x00\\xff\\x01\\x00\\x01\\x00\\x00\\n\\x00\\x0c\\x00\\n\\xaa\\xaa\\x00\\x1d\\x00\\x17\\x00\\x18\\x00\\x19\\x00\\x0b\\x00\\x02\\x01\\x00\\x00\\x10\\x00\\x0e\\x00\\x0c\\x02h2\\x08http/1.1\\x00\\x05\\x00\\x05\\x01\\x00\\x00\\x00\\x00\\x00\\r\\x00\\x18\\x00\\x16\\x04\\x03\\x08\\x04\\x04\\x01\\x05\\x03\\x02\\x03\\x08\\x05\\x08\\x05\\x05\\x01\\x08\\x06\\x06\\x01\\x02\\x01\\x00\\x12\\x00\\x00\\x003\\x00+\\x00)\\xaa\\xaa\\x00\\x01\\x00\\x00\\x1d\\x00 \\xe8\\x96\\x9a\\x04\\x00\\xb7\\x9eY\\xa6\\xe4Q\\xe88\\xd2\\xccL\\xb3n\\x17\\xd2\\xff\\xae\\xe2y\\x17\\x1e\\xbb\\xfa\\xfc\\xb3|w\\x00-\\x00\\x02\\x01\\x01\\x00+\\x00\\x0b\\n\\xca\\xca\\x03\\x04\\x03\\x03\\x03\\x02\\x03\\x01\\x00\\x1b\\x00\\x03\\x02\\x00\\x01\\x9a\\x9a\\x00\\x01']\n"
     ]
    }
   ],
   "source": [
    "arr"
   ]
  }
 ],
 "metadata": {
  "kernelspec": {
   "display_name": "py3jp",
   "language": "python",
   "name": "python3"
  },
  "language_info": {
   "codemirror_mode": {
    "name": "ipython",
    "version": 3
   },
   "file_extension": ".py",
   "mimetype": "text/x-python",
   "name": "python",
   "nbconvert_exporter": "python",
   "pygments_lexer": "ipython3",
   "version": "3.12.2"
  }
 },
 "nbformat": 4,
 "nbformat_minor": 2
}
