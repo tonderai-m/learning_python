{
 "cells": [
  {
   "cell_type": "markdown",
   "metadata": {},
   "source": [
    "Here is a classical fibonacci series y"
   ]
  },
  {
   "cell_type": "code",
   "execution_count": 39,
   "metadata": {},
   "outputs": [
    {
     "name": "stdout",
     "output_type": "stream",
     "text": [
      "\n",
      "called fibonacci(5)\n",
      "called fibonacci(4) and fibonacci(3)\n",
      "\n",
      "called fibonacci(3)\n",
      "called fibonacci(2) and fibonacci(1)\n",
      "\n",
      "called fibonacci(1)\n",
      "\n",
      "called fibonacci(2)\n",
      "called fibonacci(1) and fibonacci(0)\n",
      "\n",
      "called fibonacci(0)\n",
      "\n",
      "called fibonacci(1)\n",
      "from fibonacci 2 we get result 1\n",
      "from fibonacci 3 we get result 2\n",
      "\n",
      "called fibonacci(4)\n",
      "called fibonacci(3) and fibonacci(2)\n",
      "\n",
      "called fibonacci(2)\n",
      "called fibonacci(1) and fibonacci(0)\n",
      "\n",
      "called fibonacci(0)\n",
      "\n",
      "called fibonacci(1)\n",
      "from fibonacci 2 we get result 1\n",
      "\n",
      "called fibonacci(3)\n",
      "called fibonacci(2) and fibonacci(1)\n",
      "\n",
      "called fibonacci(1)\n",
      "\n",
      "called fibonacci(2)\n",
      "called fibonacci(1) and fibonacci(0)\n",
      "\n",
      "called fibonacci(0)\n",
      "\n",
      "called fibonacci(1)\n",
      "from fibonacci 2 we get result 1\n",
      "from fibonacci 3 we get result 2\n",
      "from fibonacci 4 we get result 3\n",
      "from fibonacci 5 we get result 5\n"
     ]
    },
    {
     "data": {
      "text/plain": [
       "5"
      ]
     },
     "execution_count": 39,
     "metadata": {},
     "output_type": "execute_result"
    }
   ],
   "source": [
    "def fibonacci(num):\n",
    "    print(f\"\\ncalled fibonacci({num})\")\n",
    "    if num < 2:\n",
    "        return num\n",
    "    \n",
    "    print(f\"called fibonacciWithCache({num - 1}) and fibonacci({num - 2})\")\n",
    "    result = fibonacci(num - 2) + fibonacci(num - 1)\n",
    "\n",
    "    print(f\"from fibonacci {num} we get result {result}\")\n",
    "    return result \n",
    "    \n",
    "fibonacci(5)"
   ]
  },
  {
   "cell_type": "markdown",
   "metadata": {},
   "source": [
    "Same function but this one has cache "
   ]
  },
  {
   "cell_type": "code",
   "execution_count": 41,
   "metadata": {},
   "outputs": [
    {
     "name": "stdout",
     "output_type": "stream",
     "text": [
      "\n",
      "called fibonacci(5)\n",
      "called fibonacci(4) and fibonacci(3)\n",
      "\n",
      "called fibonacci(3)\n",
      "called fibonacci(2) and fibonacci(1)\n",
      "\n",
      "called fibonacci(1)\n",
      "\n",
      "called fibonacci(2)\n",
      "called fibonacci(1) and fibonacci(0)\n",
      "\n",
      "called fibonacci(0)\n",
      "\n",
      "called fibonacci(1)\n",
      "from fibonacci 2 we get result 1\n",
      "from fibonacci 3 we get result 2\n",
      "\n",
      "called fibonacci(4)\n",
      "called fibonacci(3) and fibonacci(2)\n",
      "\n",
      "called fibonacci(2)\n",
      "\n",
      "called fibonacci(3)\n",
      "from fibonacci 4 we get result 3\n",
      "from fibonacci 5 we get result 5\n"
     ]
    },
    {
     "data": {
      "text/plain": [
       "5"
      ]
     },
     "execution_count": 41,
     "metadata": {},
     "output_type": "execute_result"
    }
   ],
   "source": [
    "# With memorization\n",
    "fibonacciCache = {} \n",
    "\n",
    "def fibonacciWithCache(num):\n",
    "    global fibonacciCache\n",
    "    print(f\"\\ncalled fibonacci({num})\")\n",
    "\n",
    "    if num in fibonacciCache:\n",
    "        return fibonacciCache[num]\n",
    "    if num < 2:\n",
    "        fibonacciCache[num] = num\n",
    "        return num\n",
    "    \n",
    "    print(f\"called fibonacci({num - 1}) and fibonacci({num - 2})\")\n",
    "    result = fibonacciWithCache(num - 2) + fibonacciWithCache(num - 1)\n",
    "    fibonacciCache[num] = result\n",
    "\n",
    "    print(f\"from fibonacci {num} we get result {result}\")\n",
    "    return result \n",
    "    \n",
    "fibonacciWithCache(5)"
   ]
  },
  {
   "cell_type": "code",
   "execution_count": 42,
   "metadata": {},
   "outputs": [
    {
     "name": "stdout",
     "output_type": "stream",
     "text": [
      "\n",
      "called fibonacci(5)\n",
      "called fibonacciWithCache(4) and fibonacci(3)\n",
      "\n",
      "called fibonacci(3)\n",
      "called fibonacciWithCache(2) and fibonacci(1)\n",
      "\n",
      "called fibonacci(1)\n",
      "\n",
      "called fibonacci(2)\n",
      "called fibonacciWithCache(1) and fibonacci(0)\n",
      "\n",
      "called fibonacci(0)\n",
      "from fibonacci 2 we get result 1\n",
      "from fibonacci 3 we get result 2\n",
      "\n",
      "called fibonacci(4)\n",
      "called fibonacciWithCache(3) and fibonacci(2)\n",
      "from fibonacci 4 we get result 3\n",
      "from fibonacci 5 we get result 5\n"
     ]
    },
    {
     "data": {
      "text/plain": [
       "5"
      ]
     },
     "execution_count": 42,
     "metadata": {},
     "output_type": "execute_result"
    }
   ],
   "source": [
    "import functools\n",
    "\n",
    "@functools.lru_cache()\n",
    "def fibonacciCached(num):\n",
    "    print(f\"\\ncalled fibonacci({num})\")\n",
    "    if num < 2:\n",
    "        return num\n",
    "    \n",
    "    print(f\"called fibonacciWithCache({num - 1}) and fibonacci({num - 2})\")\n",
    "    result = fibonacciCached(num - 2) + fibonacciCached(num - 1)\n",
    "\n",
    "    print(f\"from fibonacci {num} we get result {result}\")\n",
    "    return result \n",
    "    \n",
    "fibonacciCached(5)"
   ]
  },
  {
   "cell_type": "code",
   "execution_count": 33,
   "metadata": {},
   "outputs": [
    {
     "name": "stdout",
     "output_type": "stream",
     "text": [
      "fibonacci(8) called.\n",
      "Calling fibonacci(7) and fibonacci(6).\n",
      "fibonacci(7) called.\n",
      "Calling fibonacci(6) and fibonacci(5).\n",
      "fibonacci(6) called.\n",
      "Calling fibonacci(5) and fibonacci(4).\n",
      "fibonacci(5) called.\n",
      "Calling fibonacci(4) and fibonacci(3).\n",
      "fibonacci(4) called.\n",
      "Calling fibonacci(3) and fibonacci(2).\n",
      "fibonacci(3) called.\n",
      "Calling fibonacci(2) and fibonacci(1).\n",
      "fibonacci(2) called.\n",
      "Call to fibonacci(2) returning 1.\n",
      "fibonacci(1) called.\n",
      "Call to fibonacci(1) returning 1.\n",
      "Call to fibonacci(3) returning 2.\n",
      "fibonacci(2) called.\n",
      "Call to fibonacci(2) returning 1.\n",
      "Call to fibonacci(4) returning 3.\n",
      "fibonacci(3) called.\n",
      "Calling fibonacci(2) and fibonacci(1).\n",
      "fibonacci(2) called.\n",
      "Call to fibonacci(2) returning 1.\n",
      "fibonacci(1) called.\n",
      "Call to fibonacci(1) returning 1.\n",
      "Call to fibonacci(3) returning 2.\n",
      "Call to fibonacci(5) returning 5.\n",
      "fibonacci(4) called.\n",
      "Calling fibonacci(3) and fibonacci(2).\n",
      "fibonacci(3) called.\n",
      "Calling fibonacci(2) and fibonacci(1).\n",
      "fibonacci(2) called.\n",
      "Call to fibonacci(2) returning 1.\n",
      "fibonacci(1) called.\n",
      "Call to fibonacci(1) returning 1.\n",
      "Call to fibonacci(3) returning 2.\n",
      "fibonacci(2) called.\n",
      "Call to fibonacci(2) returning 1.\n",
      "Call to fibonacci(4) returning 3.\n",
      "Call to fibonacci(6) returning 8.\n",
      "fibonacci(5) called.\n",
      "Calling fibonacci(4) and fibonacci(3).\n",
      "fibonacci(4) called.\n",
      "Calling fibonacci(3) and fibonacci(2).\n",
      "fibonacci(3) called.\n",
      "Calling fibonacci(2) and fibonacci(1).\n",
      "fibonacci(2) called.\n",
      "Call to fibonacci(2) returning 1.\n",
      "fibonacci(1) called.\n",
      "Call to fibonacci(1) returning 1.\n",
      "Call to fibonacci(3) returning 2.\n",
      "fibonacci(2) called.\n",
      "Call to fibonacci(2) returning 1.\n",
      "Call to fibonacci(4) returning 3.\n",
      "fibonacci(3) called.\n",
      "Calling fibonacci(2) and fibonacci(1).\n",
      "fibonacci(2) called.\n",
      "Call to fibonacci(2) returning 1.\n",
      "fibonacci(1) called.\n",
      "Call to fibonacci(1) returning 1.\n",
      "Call to fibonacci(3) returning 2.\n",
      "Call to fibonacci(5) returning 5.\n",
      "Call to fibonacci(7) returning 13.\n",
      "fibonacci(6) called.\n",
      "Calling fibonacci(5) and fibonacci(4).\n",
      "fibonacci(5) called.\n",
      "Calling fibonacci(4) and fibonacci(3).\n",
      "fibonacci(4) called.\n",
      "Calling fibonacci(3) and fibonacci(2).\n",
      "fibonacci(3) called.\n",
      "Calling fibonacci(2) and fibonacci(1).\n",
      "fibonacci(2) called.\n",
      "Call to fibonacci(2) returning 1.\n",
      "fibonacci(1) called.\n",
      "Call to fibonacci(1) returning 1.\n",
      "Call to fibonacci(3) returning 2.\n",
      "fibonacci(2) called.\n",
      "Call to fibonacci(2) returning 1.\n",
      "Call to fibonacci(4) returning 3.\n",
      "fibonacci(3) called.\n",
      "Calling fibonacci(2) and fibonacci(1).\n",
      "fibonacci(2) called.\n",
      "Call to fibonacci(2) returning 1.\n",
      "fibonacci(1) called.\n",
      "Call to fibonacci(1) returning 1.\n",
      "Call to fibonacci(3) returning 2.\n",
      "Call to fibonacci(5) returning 5.\n",
      "fibonacci(4) called.\n",
      "Calling fibonacci(3) and fibonacci(2).\n",
      "fibonacci(3) called.\n",
      "Calling fibonacci(2) and fibonacci(1).\n",
      "fibonacci(2) called.\n",
      "Call to fibonacci(2) returning 1.\n",
      "fibonacci(1) called.\n",
      "Call to fibonacci(1) returning 1.\n",
      "Call to fibonacci(3) returning 2.\n",
      "fibonacci(2) called.\n",
      "Call to fibonacci(2) returning 1.\n",
      "Call to fibonacci(4) returning 3.\n",
      "Call to fibonacci(6) returning 8.\n",
      "Call to fibonacci(8) returning 21.\n"
     ]
    },
    {
     "data": {
      "text/plain": [
       "21"
      ]
     },
     "execution_count": 33,
     "metadata": {},
     "output_type": "execute_result"
    }
   ],
   "source": [
    "def fibonacci(nthNumber):\n",
    "    print('fibonacci(%s) called.' % (nthNumber))\n",
    "    if nthNumber == 1 or nthNumber == 2:\n",
    "    # BASE CASE\n",
    "        print('Call to fibonacci(%s) returning 1.' % (nthNumber))\n",
    "        return 1\n",
    "    else:\n",
    "    # RECURSIVE CASE\n",
    "        print('Calling fibonacci(%s) and fibonacci(%s).' % (nthNumber - 1, nthNumber - 2))\n",
    "        result = fibonacci(nthNumber - 1) + fibonacci(nthNumber - 2)\n",
    "        print('Call to fibonacci(%s) returning %s.' % (nthNumber, result))\n",
    "    return result\n",
    "\n",
    "fibonacci(8)"
   ]
  },
  {
   "cell_type": "code",
   "execution_count": 53,
   "metadata": {},
   "outputs": [
    {
     "name": "stdout",
     "output_type": "stream",
     "text": [
      "call factorial(9)\n",
      "call factorial(8)\n",
      "call factorial(7)\n",
      "call factorial(6)\n",
      "call factorial(5)\n",
      "call factorial(4)\n",
      "call factorial(3)\n",
      "call factorial(2)\n",
      "call factorial(1)\n",
      "factorial(1) result 1\n",
      "factorial(2) result 2\n",
      "factorial(3) result 6\n",
      "factorial(4) result 24\n",
      "factorial(5) result 120\n",
      "factorial(6) result 720\n",
      "factorial(7) result 5040\n",
      "factorial(8) result 40320\n",
      "factorial(9) result 362880\n"
     ]
    },
    {
     "data": {
      "text/plain": [
       "362880"
      ]
     },
     "execution_count": 53,
     "metadata": {},
     "output_type": "execute_result"
    }
   ],
   "source": [
    "def factorial(num):\n",
    "    if num < 1:\n",
    "        return 1\n",
    "    print(f\"call factorial({num})\")\n",
    "\n",
    "    result = factorial(num - 1) * num \n",
    "\n",
    "    print(f\"factorial({num}) result {result}\")\n",
    "\n",
    "    return result \n",
    "\n",
    "factorial(9)"
   ]
  },
  {
   "cell_type": "code",
   "execution_count": 9,
   "metadata": {},
   "outputs": [
    {
     "data": {
      "text/plain": [
       "'emosewa era uoy iarednoT'"
      ]
     },
     "execution_count": 9,
     "metadata": {},
     "output_type": "execute_result"
    }
   ],
   "source": [
    "def string_reversed(string):\n",
    "    if string == \"\":\n",
    "        return \"\"\n",
    "    return string_reversed(string[1:]) + string[0] \n",
    "\n",
    "string_reversed(\"Tonderai you are awesome\")"
   ]
  },
  {
   "cell_type": "code",
   "execution_count": 49,
   "metadata": {},
   "outputs": [
    {
     "name": "stdout",
     "output_type": "stream",
     "text": [
      "\n",
      "calling reverse_list([5, 7, 8, 9, 96, 'thanks']) the count is 1 last item is item thanks\n",
      "\n",
      "calling reverse_list([5, 7, 8, 9, 96]) the count is 2 last item is item 96\n",
      "\n",
      "calling reverse_list([5, 7, 8, 9]) the count is 3 last item is item 9\n",
      "\n",
      "calling reverse_list([5, 7, 8]) the count is 4 last item is item 8\n",
      "\n",
      "calling reverse_list([5, 7]) the count is 5 last item is item 7\n",
      "\n",
      "calling reverse_list([5]) the count is 6 last item is item 5\n",
      "............ returned result [5]\n",
      "............ returned result [7, 5]\n",
      "............ returned result [8, 7, 5]\n",
      "............ returned result [9, 8, 7, 5]\n",
      "............ returned result [96, 9, 8, 7, 5]\n",
      "............ returned result ['thanks', 96, 9, 8, 7, 5]\n"
     ]
    },
    {
     "data": {
      "text/plain": [
       "['thanks', 96, 9, 8, 7, 5]"
      ]
     },
     "execution_count": 49,
     "metadata": {},
     "output_type": "execute_result"
    }
   ],
   "source": [
    "\n",
    "counter = 0 \n",
    "def reverse_list(arr):\n",
    "    global counter \n",
    "\n",
    "    if arr == []:\n",
    "        return []\n",
    "    \n",
    "    counter += 1\n",
    "    \n",
    "    print(f\"\\ncalling reverse_list({arr}) the count is {counter} last item is item {arr[-1]}\")\n",
    "\n",
    "    result = [arr[-1]] + reverse_list(arr[:-1]) \n",
    "\n",
    "    print(f\"............ returned result {result}\")\n",
    "\n",
    "    return  result \n",
    "\n",
    "reverse_list([5,7,8,9,96,\"thanks\"])\n"
   ]
  },
  {
   "cell_type": "code",
   "execution_count": 66,
   "metadata": {},
   "outputs": [
    {
     "name": "stdout",
     "output_type": "stream",
     "text": [
      "calling pelodrom(amanaplanacanalpanama)\n",
      "calling pelodrom(manaplanacanalpanam)\n",
      "calling pelodrom(anaplanacanalpana)\n",
      "calling pelodrom(naplanacanalpan)\n",
      "calling pelodrom(aplanacanalpa)\n",
      "calling pelodrom(planacanalp)\n",
      "calling pelodrom(lanacanal)\n",
      "calling pelodrom(anacana)\n",
      "calling pelodrom(nacan)\n",
      "calling pelodrom(aca)\n",
      "pelodrom(aca) result True\n",
      "pelodrom(nacan) result True\n",
      "pelodrom(anacana) result True\n",
      "pelodrom(lanacanal) result True\n",
      "pelodrom(planacanalp) result True\n",
      "pelodrom(aplanacanalpa) result True\n",
      "pelodrom(naplanacanalpan) result True\n",
      "pelodrom(anaplanacanalpana) result True\n",
      "pelodrom(manaplanacanalpanam) result True\n",
      "pelodrom(amanaplanacanalpanama) result True\n"
     ]
    },
    {
     "data": {
      "text/plain": [
       "True"
      ]
     },
     "execution_count": 66,
     "metadata": {},
     "output_type": "execute_result"
    }
   ],
   "source": [
    "def pelodrom(s):\n",
    "    if len(s) < 2:\n",
    "        return True \n",
    "    print(f\"calling pelodrom({s})\")\n",
    "\n",
    "    result = False if s[-1] != s[0] else pelodrom(s[1:-1])\n",
    "\n",
    "    print(f\"pelodrom({s}) result {result}\")\n",
    "    return result \n",
    "\n",
    "pelodrom('amanaplanacanalpanama')"
   ]
  },
  {
   "cell_type": "code",
   "execution_count": 62,
   "metadata": {},
   "outputs": [
    {
     "name": "stdout",
     "output_type": "stream",
     "text": [
      "\n",
      "calling pelodrom(tsacactui)\n",
      "pelodrom(tsacactui) result False\n"
     ]
    },
    {
     "data": {
      "text/plain": [
       "False"
      ]
     },
     "execution_count": 62,
     "metadata": {},
     "output_type": "execute_result"
    }
   ],
   "source": [
    "pelodrom('tsacactui')"
   ]
  }
 ],
 "metadata": {
  "kernelspec": {
   "display_name": "py3jp",
   "language": "python",
   "name": "python3"
  },
  "language_info": {
   "codemirror_mode": {
    "name": "ipython",
    "version": 3
   },
   "file_extension": ".py",
   "mimetype": "text/x-python",
   "name": "python",
   "nbconvert_exporter": "python",
   "pygments_lexer": "ipython3",
   "version": "3.12.2"
  }
 },
 "nbformat": 4,
 "nbformat_minor": 2
}
