{
 "cells": [
  {
   "cell_type": "code",
   "execution_count": 2,
   "metadata": {},
   "outputs": [],
   "source": [
    "from func import functions as randme"
   ]
  },
  {
   "cell_type": "code",
   "execution_count": 3,
   "metadata": {},
   "outputs": [
    {
     "data": {
      "text/plain": [
       "[-15, -13, -7, -2, -1, 5, 13, 13, 13, 15, 16, 17, 18, 18, 20]"
      ]
     },
     "execution_count": 3,
     "metadata": {},
     "output_type": "execute_result"
    }
   ],
   "source": [
    "sample = randme.rand_gen(15,20,True,-20)\n",
    "sample"
   ]
  },
  {
   "cell_type": "code",
   "execution_count": 24,
   "metadata": {},
   "outputs": [
    {
     "name": "stdout",
     "output_type": "stream",
     "text": [
      "\n",
      "calling binary_search(9,[-20, -20, -16, -15, -3, -1, 0, 1, 4, 5, 7, 17, 17, 18])\n",
      "\n",
      "calling binary_search(9,[4, 5, 7, 17, 17, 18])\n",
      "\n",
      "calling binary_search(9,[4, 5])\n",
      "\n",
      "calling binary_search(9,[])\n",
      "\n",
      "calling binary_search(9,[])\n"
     ]
    },
    {
     "data": {
      "text/plain": [
       "'None existent term not available'"
      ]
     },
     "execution_count": 24,
     "metadata": {},
     "output_type": "execute_result"
    }
   ],
   "source": [
    "# key concepts of binary search \n",
    "# we not changing or altering the file in place \n",
    "# we do care that the structure and all indexes stay in place\n",
    "\n",
    "def binary_search(term, arr, left = None,  right = None):\n",
    "\n",
    "    if left is None:\n",
    "        left = 0\n",
    "\n",
    "    if right is None:\n",
    "        right = len(arr) - 1\n",
    "    \n",
    "    mid = (right + left) // 2\n",
    "\n",
    "    print(f\"\\ncalling binary_search({term},{arr[left:right]})\")\n",
    "\n",
    "    if left > right: \n",
    "        return \"None existent term not available\"\n",
    "    \n",
    "    if arr[mid] == term:\n",
    "        print(f\"We found {term} on index {mid}\")\n",
    "        return \n",
    "    \n",
    "    if arr[mid] > term:\n",
    "        return binary_search(term, arr, left, mid - 1 )\n",
    "    else: \n",
    "        return binary_search(term, arr, mid + 1, right)\n",
    "\n",
    "\n",
    "\n",
    "binary_search(9,sample)\n"
   ]
  },
  {
   "cell_type": "code",
   "execution_count": 25,
   "metadata": {},
   "outputs": [
    {
     "name": "stdout",
     "output_type": "stream",
     "text": [
      "\n",
      "calling binary_search(-3,[-20, -20, -16, -15, -3, -1, 0, 1, 4, 5, 7, 17, 17, 18])\n",
      "\n",
      "calling binary_search(-3,[-20, -20, -16, -15, -3, -1])\n",
      "\n",
      "calling binary_search(-3,[-3, -1])\n",
      "\n",
      "calling binary_search(-3,[])\n",
      "We found -3 on index 4\n"
     ]
    }
   ],
   "source": [
    "\n",
    "binary_search(-3,sample)"
   ]
  },
  {
   "cell_type": "code",
   "execution_count": 4,
   "metadata": {},
   "outputs": [
    {
     "data": {
      "text/plain": [
       "[9, -9, 17, 30, -1, -7, 8, 10, 22, -6, 0, 18, 14, 24, -1, -5]"
      ]
     },
     "execution_count": 4,
     "metadata": {},
     "output_type": "execute_result"
    }
   ],
   "source": [
    "unsorted_sample = randme.rand_gen(16,30,False,-10)\n",
    "unsorted_sample"
   ]
  },
  {
   "cell_type": "code",
   "execution_count": 63,
   "metadata": {},
   "outputs": [
    {
     "name": "stdout",
     "output_type": "stream",
     "text": [
      "\n",
      "pivot is 30\n",
      "quick_sort([-10, -10, -9, -9, -8, -3, 8, 8, 10, 10, 16, 19, 26, 28, 29, 30])\n",
      "after moving items based on pivot [-10, -10, -9, -9, -8, -3, 8, 8, 10, 10, 16, 19, 26, 28, 29, 30]\n",
      "after moving items based on pivot [-10, -10, -9, -9, -8, -3, 8, 8, 10, 10, 16, 19, 26, 28, 29, 30]\n",
      "next is  [-10, -10, -9, -9, -8, -3, 8, 8, 10, 10, 16, 19, 26, 28] []\n",
      "\n",
      "pivot is 29\n",
      "quick_sort([-10, -10, -9, -9, -8, -3, 8, 8, 10, 10, 16, 19, 26, 28, 29])\n",
      "after moving items based on pivot [-10, -10, -9, -9, -8, -3, 8, 8, 10, 10, 16, 19, 26, 28, 29]\n",
      "after moving items based on pivot [-10, -10, -9, -9, -8, -3, 8, 8, 10, 10, 16, 19, 26, 28, 29]\n",
      "next is  [-10, -10, -9, -9, -8, -3, 8, 8, 10, 10, 16, 19, 26] []\n",
      "\n",
      "pivot is 28\n",
      "quick_sort([-10, -10, -9, -9, -8, -3, 8, 8, 10, 10, 16, 19, 26, 28])\n",
      "after moving items based on pivot [-10, -10, -9, -9, -8, -3, 8, 8, 10, 10, 16, 19, 26, 28]\n",
      "after moving items based on pivot [-10, -10, -9, -9, -8, -3, 8, 8, 10, 10, 16, 19, 26, 28]\n",
      "next is  [-10, -10, -9, -9, -8, -3, 8, 8, 10, 10, 16, 19] []\n",
      "\n",
      "pivot is 26\n",
      "quick_sort([-10, -10, -9, -9, -8, -3, 8, 8, 10, 10, 16, 19, 26])\n",
      "after moving items based on pivot [-10, -10, -9, -9, -8, -3, 8, 8, 10, 10, 16, 19, 26]\n",
      "after moving items based on pivot [-10, -10, -9, -9, -8, -3, 8, 8, 10, 10, 16, 19, 26]\n",
      "next is  [-10, -10, -9, -9, -8, -3, 8, 8, 10, 10, 16] []\n",
      "\n",
      "pivot is 19\n",
      "quick_sort([-10, -10, -9, -9, -8, -3, 8, 8, 10, 10, 16, 19])\n",
      "after moving items based on pivot [-10, -10, -9, -9, -8, -3, 8, 8, 10, 10, 16, 19]\n",
      "after moving items based on pivot [-10, -10, -9, -9, -8, -3, 8, 8, 10, 10, 16, 19]\n",
      "next is  [-10, -10, -9, -9, -8, -3, 8, 8, 10, 10] []\n",
      "\n",
      "pivot is 16\n",
      "quick_sort([-10, -10, -9, -9, -8, -3, 8, 8, 10, 10, 16])\n",
      "after moving items based on pivot [-10, -10, -9, -9, -8, -3, 8, 8, 10, 10, 16]\n",
      "after moving items based on pivot [-10, -10, -9, -9, -8, -3, 8, 8, 10, 10, 16]\n",
      "next is  [-10, -10, -9, -9, -8, -3, 8, 8, 10] []\n",
      "\n",
      "pivot is 10\n",
      "quick_sort([-10, -10, -9, -9, -8, -3, 8, 8, 10, 10])\n",
      "after moving items based on pivot [-10, -10, -9, -9, -8, -3, 8, 8, 10, 10]\n",
      "after moving items based on pivot [-10, -10, -9, -9, -8, -3, 8, 8, 10, 10]\n",
      "next is  [-10, -10, -9, -9, -8, -3, 8] [10]\n",
      "\n",
      "pivot is 8\n",
      "quick_sort([-10, -10, -9, -9, -8, -3, 8, 8])\n",
      "after moving items based on pivot [-10, -10, -9, -9, -8, -3, 8, 8]\n",
      "after moving items based on pivot [-10, -10, -9, -9, -8, -3, 8, 8]\n",
      "next is  [-10, -10, -9, -9, -8] [8]\n",
      "\n",
      "pivot is -3\n",
      "quick_sort([-10, -10, -9, -9, -8, -3])\n",
      "after moving items based on pivot [-10, -10, -9, -9, -8, -3]\n",
      "after moving items based on pivot [-10, -10, -9, -9, -8, -3]\n",
      "next is  [-10, -10, -9, -9] []\n",
      "\n",
      "pivot is -8\n",
      "quick_sort([-10, -10, -9, -9, -8])\n",
      "after moving items based on pivot [-10, -10, -9, -9, -8]\n",
      "after moving items based on pivot [-10, -10, -9, -9, -8]\n",
      "next is  [-10, -10, -9] []\n",
      "\n",
      "pivot is -9\n",
      "quick_sort([-10, -10, -9, -9])\n",
      "after moving items based on pivot [-10, -10, -9, -9]\n",
      "after moving items based on pivot [-10, -10, -9, -9]\n",
      "next is  [-10] [-9]\n",
      "\n",
      "pivot is -10\n",
      "quick_sort([-10, -10])\n",
      "after moving items based on pivot [-10, -10]\n",
      "after moving items based on pivot [-10, -10]\n",
      "next is  [-10, -10, -9, -9, -8, -3, 8, 8, 10, 10, 16, 19, 26, 28, 29] [-10]\n",
      "\n",
      "returned sorted array [-10, -10, -9, -9, -8, -3, 8, 8, 10, 10, 16, 19, 26, 28, 29, 30]\n"
     ]
    }
   ],
   "source": [
    "# The whole idea of quick sort is to sort the pivots \n",
    "# The pivot is the right most element \n",
    "\n",
    "\n",
    "def quick_sort(arr, left = None, right = None):\n",
    "\n",
    "    if left is None:\n",
    "        left = 0\n",
    "\n",
    "    if right is None:\n",
    "        right = len(arr) - 1\n",
    "\n",
    "    if left >= right:\n",
    "        return arr\n",
    "    \n",
    "    i = left \n",
    "    pivot = arr[right]\n",
    "\n",
    "\n",
    "\n",
    "    print(f\"\\npivot is {pivot}\")\n",
    "    print(f\"quick_sort({arr[left:right + 1]})\")\n",
    "\n",
    "    for j in range(left,right):\n",
    "        if arr[j] < pivot:\n",
    "            arr[i], arr[j] = arr[j], arr[i]\n",
    "            i += 1\n",
    "\n",
    "    print(f\"after moving items based on pivot {arr[left:right + 1]}\")\n",
    "    # Insert the pivot \n",
    "    arr[i], arr[right] = arr[right], arr[i]\n",
    "\n",
    "    print(f\"after moving items based on pivot {arr[left:right + 1]}\")\n",
    "\n",
    "    print(f\"next is  {arr[left : i - 1]} {arr[i + 1 : right + 1]}\")\n",
    "\n",
    "\n",
    "    quick_sort(arr, i + 1, right)\n",
    "    quick_sort(arr, left, i - 1)\n",
    "\n",
    "        \n",
    "\n",
    "quick_sort(unsorted_sample)\n",
    "print(f\"\\nreturned sorted array {unsorted_sample}\")\n"
   ]
  },
  {
   "cell_type": "code",
   "execution_count": 15,
   "metadata": {},
   "outputs": [
    {
     "name": "stdout",
     "output_type": "stream",
     "text": [
      "\n",
      "call merge_sort([-9, -7, -6, -5, -1, -1, 0, 8, 9, 10, 14, 17, 18, 22, 24, 30])\n",
      "A1 = [-9, -7, -6, -5, -1, -1, 0, 8] A2 = [9, 10, 14, 17, 18, 22, 24, 30] \n",
      "\n",
      "call merge_sort([-9, -7, -6, -5, -1, -1, 0, 8])\n",
      "A1 = [-9, -7, -6, -5] A2 = [-1, -1, 0, 8] \n",
      "\n",
      "call merge_sort([-9, -7, -6, -5])\n",
      "A1 = [-9, -7] A2 = [-6, -5] \n",
      "\n",
      "call merge_sort([-9, -7])\n",
      "A1 = [-9] A2 = [-7] \n",
      "to sort [-9] and [-7]\n",
      "sorted [-9, -7]\n",
      "\n",
      "call merge_sort([-6, -5])\n",
      "A1 = [-6] A2 = [-5] \n",
      "to sort [-6] and [-5]\n",
      "sorted [-6, -5]\n",
      "to sort [-9, -7] and [-6, -5]\n",
      "sorted [-9, -7, -6, -5]\n",
      "\n",
      "call merge_sort([-1, -1, 0, 8])\n",
      "A1 = [-1, -1] A2 = [0, 8] \n",
      "\n",
      "call merge_sort([-1, -1])\n",
      "A1 = [-1] A2 = [-1] \n",
      "to sort [-1] and [-1]\n",
      "sorted [-1, -1]\n",
      "\n",
      "call merge_sort([0, 8])\n",
      "A1 = [0] A2 = [8] \n",
      "to sort [0] and [8]\n",
      "sorted [0, 8]\n",
      "to sort [-1, -1] and [0, 8]\n",
      "sorted [-1, -1, 0, 8]\n",
      "to sort [-9, -7, -6, -5] and [-1, -1, 0, 8]\n",
      "sorted [-9, -7, -6, -5, -1, -1, 0, 8]\n",
      "\n",
      "call merge_sort([9, 10, 14, 17, 18, 22, 24, 30])\n",
      "A1 = [9, 10, 14, 17] A2 = [18, 22, 24, 30] \n",
      "\n",
      "call merge_sort([9, 10, 14, 17])\n",
      "A1 = [9, 10] A2 = [14, 17] \n",
      "\n",
      "call merge_sort([9, 10])\n",
      "A1 = [9] A2 = [10] \n",
      "to sort [9] and [10]\n",
      "sorted [9, 10]\n",
      "\n",
      "call merge_sort([14, 17])\n",
      "A1 = [14] A2 = [17] \n",
      "to sort [14] and [17]\n",
      "sorted [14, 17]\n",
      "to sort [9, 10] and [14, 17]\n",
      "sorted [9, 10, 14, 17]\n",
      "\n",
      "call merge_sort([18, 22, 24, 30])\n",
      "A1 = [18, 22] A2 = [24, 30] \n",
      "\n",
      "call merge_sort([18, 22])\n",
      "A1 = [18] A2 = [22] \n",
      "to sort [18] and [22]\n",
      "sorted [18, 22]\n",
      "\n",
      "call merge_sort([24, 30])\n",
      "A1 = [24] A2 = [30] \n",
      "to sort [24] and [30]\n",
      "sorted [24, 30]\n",
      "to sort [18, 22] and [24, 30]\n",
      "sorted [18, 22, 24, 30]\n",
      "to sort [9, 10, 14, 17] and [18, 22, 24, 30]\n",
      "sorted [9, 10, 14, 17, 18, 22, 24, 30]\n",
      "to sort [-9, -7, -6, -5, -1, -1, 0, 8] and [9, 10, 14, 17, 18, 22, 24, 30]\n",
      "sorted [-9, -7, -6, -5, -1, -1, 0, 8, 9, 10, 14, 17, 18, 22, 24, 30]\n"
     ]
    },
    {
     "data": {
      "text/plain": [
       "[-9, -7, -6, -5, -1, -1, 0, 8, 9, 10, 14, 17, 18, 22, 24, 30]"
      ]
     },
     "execution_count": 15,
     "metadata": {},
     "output_type": "execute_result"
    }
   ],
   "source": [
    "def merge_sort(arr):\n",
    "\n",
    "    if len(arr) < 2:\n",
    "        return arr\n",
    "    \n",
    "    print(f\"\\ncall merge_sort({arr})\")\n",
    "    print(f\"A1 = {arr[:len(arr)//2]} A2 = {arr[len(arr)//2:]} \")\n",
    "    A1 = merge_sort(arr[:len(arr)//2])\n",
    "    A2 = merge_sort(arr[len(arr)//2:])\n",
    "\n",
    "    del arr[:]\n",
    "    # You can use:\n",
    "    # result = [] \n",
    "    # for all the following arr this will work,\n",
    "    # but we can reuse arr too since we don't need it \n",
    "\n",
    "\n",
    "    print(f\"to sort {A1} and {A2}\")\n",
    "    while len(A1) + len(A2) > 0:\n",
    "        if len(A2) == 0 or (len(A1)> 0 and A1[0] < A2[0]):\n",
    "            arr.append(A1.pop(0))\n",
    "        else: arr.append(A2.pop(0))\n",
    "\n",
    "    print(f\"sorted {arr}\")\n",
    "\n",
    "    return arr\n",
    "\n",
    "\n",
    "\n",
    "merge_sort(unsorted_sample)"
   ]
  }
 ],
 "metadata": {
  "kernelspec": {
   "display_name": "py3jp",
   "language": "python",
   "name": "python3"
  },
  "language_info": {
   "codemirror_mode": {
    "name": "ipython",
    "version": 3
   },
   "file_extension": ".py",
   "mimetype": "text/x-python",
   "name": "python",
   "nbconvert_exporter": "python",
   "pygments_lexer": "ipython3",
   "version": "3.12.2"
  }
 },
 "nbformat": 4,
 "nbformat_minor": 2
}
