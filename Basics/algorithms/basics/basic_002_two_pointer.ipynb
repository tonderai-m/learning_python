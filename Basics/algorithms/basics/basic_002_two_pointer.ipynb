{
 "cells": [
  {
   "cell_type": "markdown",
   "metadata": {},
   "source": [
    "# [Two Pointer](https://medium.com/python-in-plain-english/the-two-pointer-pattern-a-must-have-skill-for-every-coder-a792b0d0617d) \n"
   ]
  },
  {
   "cell_type": "markdown",
   "metadata": {},
   "source": [
    "**Two Pointers**\n",
    "\n",
    "Two Pointers is a common algorithmic technique in which two pointers are used to traverse a data structure (often an array or linked list). These pointers can move in the same direction or opposite directions, depending on the problem.\n",
    "\n",
    "**LeetCode Problems**\n",
    "\n",
    "Here's a list of LeetCode problems that are commonly solved using the two-pointer technique, categorized by difficulty:\n",
    "\n",
    "**Easy**\n",
    "\n",
    "* **167. Two Sum II - Input array is sorted:** Given a sorted array of integers and a target value, find the indices of the two numbers such that they add up to the target.\n",
    "* **26. Remove Duplicates from Sorted Array:** Given an integer array nums sorted in non-decreasing order, remove the duplicates in-place such that each unique element appears only once. The relative order of the elements should be kept the same.\n",
    "* **27. Remove Element:** Given an integer array nums and an integer val, remove all occurrences of val in nums in-place. The relative order of the elements may be changed.\n",
    "* **283. Move Zeroes:** Given an integer array nums, move all 0's to the end of it while maintaining the relative order of the non-zero elements.\n",
    "* **88. Merge Sorted Array:** Given two sorted integer arrays nums1 and nums2, merge nums2 into nums1 as one sorted array.\n",
    "\n",
    "**Medium**\n",
    "\n",
    "* **11. Container With Most Water:** Given n non-negative integers a1, a2, ..., an , where each represents a point at coordinate (i, ai). n vertical lines are drawn such that the two endpoints of the line i is at (i, ai) and (i, 0). Find two lines, which, together with the x-axis forms a container, such that the container contains the most water.\n",
    "* **15. 3Sum:** Given an integer array nums, return all the triplets [nums[i], nums[j], nums[k]] such that i != j, i != k, and j != k, and nums[i] + nums[j] + nums[k] == 0.\n",
    "* **16. 3Sum Closest:** Given an integer array nums of length n and an integer target, find three integers in nums such that the sum is closest to target.\n",
    "* **18. 4Sum:** Given an array nums of n integers, return an array of all unique quadruplets [nums[a], nums[b], nums[c], nums[d]] such that:\n",
    "    * 0 <= a, b, c, d < n\n",
    "    * a, b, c, and d are distinct.\n",
    "    * nums[a] + nums[b] + nums[c] + nums[d] == target\n",
    "* **75. Sort Colors:** Given an array nums with n objects colored red, white, or blue, sort them in-place so that objects of the same color are adjacent, with the colors in the order red, white, and blue.\n",
    "* **141. Linked List Cycle:** Given head, the head of a singly linked list, determine if the linked list has a cycle in it.\n",
    "* **160. Intersection of Two Linked Lists:** Given the heads of two singly linked-lists headA and headB, return the node at which the two lists intersect. If the two linked lists have no intersection at all, return null.\n",
    "* **209. Minimum Size Subarray Sum:** Given an array of positive integers nums and a positive integer target, return the minimal length of a contiguous subarray [numsl, ..., numsr] of which the sum is greater than or equal to target. If there is no such subarray, return 0 instead.\n",
    "* **234. Palindrome Linked List:** Given a singly linked list, determine if it is a palindrome.\n",
    "\n",
    "**Tips for Solving Two Pointer Problems**\n",
    "\n",
    "* **Understand the Problem:** Carefully read the problem statement and identify the key constraints and requirements.\n",
    "* **Visualize the Pointers:** Draw diagrams to help visualize the movement of the pointers and how they interact with the data structure.\n",
    "* **Consider Edge Cases:** Think about potential edge cases, such as empty arrays, single-element arrays, or arrays with all duplicate elements.\n",
    "* **Test Thoroughly:** Test your solution with various inputs to ensure it works correctly in all scenarios.\n",
    "\n",
    "Remember, practice is key to mastering the two-pointer technique. Work through these problems and others to gain a deeper understanding of this powerful algorithmic approach."
   ]
  },
  {
   "cell_type": "code",
   "execution_count": 40,
   "metadata": {},
   "outputs": [],
   "source": [
    "import random "
   ]
  },
  {
   "cell_type": "code",
   "execution_count": 41,
   "metadata": {},
   "outputs": [
    {
     "data": {
      "text/plain": [
       "[1, 1, 1, 1, 2, 3, 4, 5, 5, 5, 5, 5, 5, 7, 7, 7, 7, 7, 7]"
      ]
     },
     "execution_count": 41,
     "metadata": {},
     "output_type": "execute_result"
    }
   ],
   "source": [
    "def rand_gen(x,y,z = False, w = 1):\n",
    "    arr =  [random.randint(w,y) for i in range(x)]\n",
    "    return sorted(arr) if z == True else arr\n",
    "\n",
    "\n",
    "arr = rand_gen(19,7,True)\n",
    "arr"
   ]
  },
  {
   "cell_type": "markdown",
   "metadata": {},
   "source": [
    "## [977. Squares of a Sorted Array](https://leetcode.com/problems/squares-of-a-sorted-array/description/)\n",
    "\n",
    "Given an integer array `nums` sorted in **non-decreasing** order, return an **array of the squares of each number** sorted in **non-decreasing** order.\n",
    "\n",
    "### Example 1:\n",
    "**Input:**  \n",
    "`nums = [-4,-1,0,3,10]`\n",
    "\n",
    "**Output:**  \n",
    "`[0,1,9,16,100]`  \n",
    "\n",
    "**Explanation:**  \n",
    "After squaring, the array becomes `[16,1,0,9,100]`.  \n",
    "After sorting, it becomes `[0,1,9,16,100]`.\n",
    "\n",
    "### Example 2:\n",
    "**Input:**  \n",
    "`nums = [-7,-3,2,3,11]`  \n",
    "\n",
    "**Output:**  \n",
    "`[4,9,9,49,121]`  \n",
    "\n",
    "---\n",
    "\n",
    "### Constraints:\n",
    "- `1 <= nums.length <= 10^4`  \n",
    "- `-10^4 <= nums[i] <= 10^4`  \n",
    "- `nums` is sorted in **non-decreasing** order.  \n",
    "\n",
    "---\n",
    "\n",
    "### Follow up:  \n",
    "Squaring each element and sorting the new array is very trivial, could you find an `O(n)` solution using a different approach?\n"
   ]
  },
  {
   "cell_type": "code",
   "execution_count": 42,
   "metadata": {},
   "outputs": [
    {
     "data": {
      "text/plain": [
       "[-6, -6, -3, -2, -2, -1, -1, 0, 1, 1, 5, 5, 7, 8, 8]"
      ]
     },
     "execution_count": 42,
     "metadata": {},
     "output_type": "execute_result"
    }
   ],
   "source": [
    "arr = rand_gen(15,10,True, -10)\n",
    "arr"
   ]
  },
  {
   "cell_type": "code",
   "execution_count": 43,
   "metadata": {},
   "outputs": [
    {
     "name": "stdout",
     "output_type": "stream",
     "text": [
      "[0, 1, 1, 1, 1, 4, 4, 9, 25, 25, 36, 36, 49, 64, 64]\n"
     ]
    }
   ],
   "source": [
    "def squareSortedArray(arr):\n",
    "    n = len(arr)\n",
    "    left = 0 \n",
    "    right = n - 1 \n",
    "    result = []\n",
    "\n",
    "    while left <= right:\n",
    "        if abs(arr[left]) >= abs(arr[right]):\n",
    "            result.append(arr[left] ** 2)\n",
    "            left += 1\n",
    "\n",
    "        else:\n",
    "            result.append(arr[right] ** 2)\n",
    "            right -= 1\n",
    "    print(result[::-1])\n",
    "\n",
    "squareSortedArray(arr)"
   ]
  },
  {
   "cell_type": "code",
   "execution_count": 44,
   "metadata": {},
   "outputs": [
    {
     "name": "stdout",
     "output_type": "stream",
     "text": [
      "[0, 1, 1, 1, 1, 4, 4, 9, 25, 25, 36, 36, 49, 64, 64]\n"
     ]
    }
   ],
   "source": [
    "# more efficient algorithm is \n",
    "def sortedSquares( nums: list[int]) -> list[int]:\n",
    "    n = len(nums)\n",
    "    result = [0] * n\n",
    "    for i in range(n):\n",
    "        result[i] = nums[i]*nums[i]\n",
    "           \n",
    "    print(sorted(result))\n",
    "    \n",
    "sortedSquares(arr)"
   ]
  },
  {
   "cell_type": "markdown",
   "metadata": {},
   "source": [
    "# [167. Two Sum II - Input Array Is Sorted](https://leetcode.com/problems/two-sum-ii-input-array-is-sorted/description/)\n",
    "\n",
    "Given a **1-indexed** array of integers `numbers` that is already sorted in non-decreasing order, find two numbers such that they add up to a specific `target` number. Let these two numbers be `numbers[index1]` and numbers[index <sub>1</sub>]` where 1 <= index1 < index2 <= numbers.length`.\n",
    "\n",
    "**Return** the indices of the two numbers, index1 and index2, added by one as an integer array [index1, index2] of length 2.\n",
    "\n",
    "The tests are generated such that there is exactly one solution. You may not use the same element twice.\n",
    "\n",
    "Your solution must use only constant extra space.\n",
    "\n",
    " \n",
    "\n",
    "#### Example 1:\n",
    "\n",
    "**Input:** \n",
    "`numbers = [2,7,11,15], target = 9`\n",
    "\n",
    "**Output:** \n",
    "`[1,2]`\n",
    "\n",
    "**Explanation:**\n",
    "The sum of 2 and 7 is 9. Therefore, index1 = 1, index2 = 2. We return [1, 2].\n",
    "\n",
    "#### Example 2:\n",
    "\n",
    "**Input:** \n",
    "`numbers = [2,3,4], target = 6`\n",
    "\n",
    "**Output:** \n",
    "`[1,3]`\n",
    "\n",
    "**Explanation:**\n",
    " The sum of 2 and 4 is 6. Therefore index1 = 1, index2 = 3. We return [1, 3].\n",
    "\n",
    "#### Example 3:\n",
    "\n",
    "**Input:**\n",
    "`numbers = [-1,0], target = -1`\n",
    "\n",
    "**Output:** \n",
    "`[1,2]`\n",
    "**Explanation:** \n",
    "The sum of -1 and 0 is -1. Therefore index1 = 1, index2 = 2. We return [1, 2].\n",
    "\n",
    "#### Constraints:\n",
    "\n",
    "- `2 <= numbers.length <= 3 * 104`\n",
    "- `-1000 <= numbers[i] <= 1000`\n",
    "- `numbers is sorted in non-decreasing order.`\n",
    "- `-1000 <= target <= 1000`\n",
    "\n",
    "The tests are generated such that there is exactly one solution."
   ]
  },
  {
   "cell_type": "code",
   "execution_count": 51,
   "metadata": {},
   "outputs": [
    {
     "name": "stdout",
     "output_type": "stream",
     "text": [
      "target is indeed equal to the sum of (1, 8)\n"
     ]
    }
   ],
   "source": [
    "def twoSumII(arr=[2,7,11,15],target=9):\n",
    "    left = 0\n",
    "    right = len(arr) - 1\n",
    "\n",
    "    while left != right:\n",
    "        if arr[left] + arr[right] > target:\n",
    "            right -= 1 \n",
    "        elif arr[left] + arr[right] < target:\n",
    "            left += 1 \n",
    "        else:\n",
    "            return [left,right]\n",
    "\n",
    "\n",
    "a = twoSumII(arr)\n",
    "\n",
    "print(f'target is indeed equal to the sum of {arr[a[0]], arr[a[1]]}')"
   ]
  },
  {
   "cell_type": "code",
   "execution_count": 49,
   "metadata": {},
   "outputs": [
    {
     "data": {
      "text/plain": [
       "(1, 8)"
      ]
     },
     "execution_count": 49,
     "metadata": {},
     "output_type": "execute_result"
    }
   ],
   "source": []
  }
 ],
 "metadata": {
  "kernelspec": {
   "display_name": "py3jp",
   "language": "python",
   "name": "python3"
  },
  "language_info": {
   "codemirror_mode": {
    "name": "ipython",
    "version": 3
   },
   "file_extension": ".py",
   "mimetype": "text/x-python",
   "name": "python",
   "nbconvert_exporter": "python",
   "pygments_lexer": "ipython3",
   "version": "3.12.2"
  }
 },
 "nbformat": 4,
 "nbformat_minor": 2
}
