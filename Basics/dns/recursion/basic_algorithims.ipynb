{
 "cells": [
  {
   "cell_type": "code",
   "execution_count": 1,
   "metadata": {},
   "outputs": [],
   "source": [
    "from func import functions as randme"
   ]
  },
  {
   "cell_type": "code",
   "execution_count": 2,
   "metadata": {},
   "outputs": [
    {
     "data": {
      "text/plain": [
       "[-19, -18, -11, -8, -7, -7, -6, -2, -1, 3, 8, 8, 11, 11, 20]"
      ]
     },
     "execution_count": 2,
     "metadata": {},
     "output_type": "execute_result"
    }
   ],
   "source": [
    "sample = randme.rand_gen(15,20,True,-20)\n",
    "sample"
   ]
  },
  {
   "cell_type": "code",
   "execution_count": 3,
   "metadata": {},
   "outputs": [
    {
     "name": "stdout",
     "output_type": "stream",
     "text": [
      "\n",
      "calling binary_search(9,[-19, -18, -11, -8, -7, -7, -6, -2, -1, 3, 8, 8, 11, 11])\n",
      "\n",
      "calling binary_search(9,[-1, 3, 8, 8, 11, 11])\n",
      "\n",
      "calling binary_search(9,[11, 11])\n",
      "\n",
      "calling binary_search(9,[])\n",
      "\n",
      "calling binary_search(9,[])\n"
     ]
    },
    {
     "data": {
      "text/plain": [
       "'None existent term not available'"
      ]
     },
     "execution_count": 3,
     "metadata": {},
     "output_type": "execute_result"
    }
   ],
   "source": [
    "# key concepts of binary search \n",
    "# we not changing or altering the file in place \n",
    "# we do care that the structure and all indexes stay in place\n",
    "\n",
    "def binary_search(term, arr, left = None,  right = None):\n",
    "\n",
    "    if left is None:\n",
    "        left = 0\n",
    "\n",
    "    if right is None:\n",
    "        right = len(arr) - 1\n",
    "    \n",
    "    mid = (right + left) // 2\n",
    "\n",
    "    print(f\"\\ncalling binary_search({term},{arr[left:right]})\")\n",
    "\n",
    "    if left > right: \n",
    "        return \"None existent term not available\"\n",
    "    \n",
    "    if arr[mid] == term:\n",
    "        print(f\"We found {term} on index {mid}\")\n",
    "        return \n",
    "    \n",
    "    if arr[mid] > term:\n",
    "        return binary_search(term, arr, left, mid - 1 )\n",
    "    else: \n",
    "        return binary_search(term, arr, mid + 1, right)\n",
    "\n",
    "\n",
    "\n",
    "binary_search(9,sample)\n"
   ]
  },
  {
   "cell_type": "code",
   "execution_count": 4,
   "metadata": {},
   "outputs": [
    {
     "name": "stdout",
     "output_type": "stream",
     "text": [
      "\n",
      "calling binary_search(-3,[-19, -18, -11, -8, -7, -7, -6, -2, -1, 3, 8, 8, 11, 11])\n",
      "\n",
      "calling binary_search(-3,[-19, -18, -11, -8, -7, -7])\n",
      "\n",
      "calling binary_search(-3,[-7, -7])\n",
      "\n",
      "calling binary_search(-3,[])\n",
      "\n",
      "calling binary_search(-3,[])\n"
     ]
    },
    {
     "data": {
      "text/plain": [
       "'None existent term not available'"
      ]
     },
     "execution_count": 4,
     "metadata": {},
     "output_type": "execute_result"
    }
   ],
   "source": [
    "\n",
    "binary_search(-3,sample)"
   ]
  },
  {
   "cell_type": "code",
   "execution_count": 5,
   "metadata": {},
   "outputs": [
    {
     "data": {
      "text/plain": [
       "[-10, 25, 29, 25, 4, 16, 3, -1, 2, -10, 29, 6, 29, -8, 25, 23]"
      ]
     },
     "execution_count": 5,
     "metadata": {},
     "output_type": "execute_result"
    }
   ],
   "source": [
    "unsorted_sample = randme.rand_gen(16,30,False,-10)\n",
    "unsorted_sample"
   ]
  },
  {
   "cell_type": "code",
   "execution_count": 6,
   "metadata": {},
   "outputs": [
    {
     "name": "stdout",
     "output_type": "stream",
     "text": [
      "\n",
      "pivot is 23\n",
      "quick_sort([-10, 25, 29, 25, 4, 16, 3, -1, 2, -10, 29, 6, 29, -8, 25, 23])\n",
      "after moving items based on pivot [-10, 4, 16, 3, -1, 2, -10, 6, -8, 25, 29, 25, 29, 29, 25, 23]\n",
      "after moving items based on pivot [-10, 4, 16, 3, -1, 2, -10, 6, -8, 23, 29, 25, 29, 29, 25, 25]\n",
      "next is  [-10, 4, 16, 3, -1, 2, -10, 6] [29, 25, 29, 29, 25, 25]\n",
      "\n",
      "pivot is 25\n",
      "quick_sort([29, 25, 29, 29, 25, 25])\n",
      "after moving items based on pivot [29, 25, 29, 29, 25, 25]\n",
      "after moving items based on pivot [25, 25, 29, 29, 25, 29]\n",
      "next is  [] [25, 29, 29, 25, 29]\n",
      "\n",
      "pivot is 29\n",
      "quick_sort([25, 29, 29, 25, 29])\n",
      "after moving items based on pivot [25, 25, 29, 29, 29]\n",
      "after moving items based on pivot [25, 25, 29, 29, 29]\n",
      "next is  [25] [29, 29]\n",
      "\n",
      "pivot is 29\n",
      "quick_sort([29, 29])\n",
      "after moving items based on pivot [29, 29]\n",
      "after moving items based on pivot [29, 29]\n",
      "next is  [] [29]\n",
      "\n",
      "pivot is 25\n",
      "quick_sort([25, 25])\n",
      "after moving items based on pivot [25, 25]\n",
      "after moving items based on pivot [25, 25]\n",
      "next is  [] [25]\n",
      "\n",
      "pivot is -8\n",
      "quick_sort([-10, 4, 16, 3, -1, 2, -10, 6, -8])\n",
      "after moving items based on pivot [-10, -10, 16, 3, -1, 2, 4, 6, -8]\n",
      "after moving items based on pivot [-10, -10, -8, 3, -1, 2, 4, 6, 16]\n",
      "next is  [-10] [3, -1, 2, 4, 6, 16]\n",
      "\n",
      "pivot is 16\n",
      "quick_sort([3, -1, 2, 4, 6, 16])\n",
      "after moving items based on pivot [3, -1, 2, 4, 6, 16]\n",
      "after moving items based on pivot [3, -1, 2, 4, 6, 16]\n",
      "next is  [3, -1, 2, 4] []\n",
      "\n",
      "pivot is 6\n",
      "quick_sort([3, -1, 2, 4, 6])\n",
      "after moving items based on pivot [3, -1, 2, 4, 6]\n",
      "after moving items based on pivot [3, -1, 2, 4, 6]\n",
      "next is  [3, -1, 2] []\n",
      "\n",
      "pivot is 4\n",
      "quick_sort([3, -1, 2, 4])\n",
      "after moving items based on pivot [3, -1, 2, 4]\n",
      "after moving items based on pivot [3, -1, 2, 4]\n",
      "next is  [3, -1] []\n",
      "\n",
      "pivot is 2\n",
      "quick_sort([3, -1, 2])\n",
      "after moving items based on pivot [-1, 3, 2]\n",
      "after moving items based on pivot [-1, 2, 3]\n",
      "next is  [] [3]\n",
      "\n",
      "pivot is -10\n",
      "quick_sort([-10, -10])\n",
      "after moving items based on pivot [-10, -10]\n",
      "after moving items based on pivot [-10, -10]\n",
      "next is  [-10, -10, -8, -1, 2, 3, 4, 6, 16, 23, 25, 25, 25, 29, 29] [-10]\n",
      "\n",
      "returned sorted array [-10, -10, -8, -1, 2, 3, 4, 6, 16, 23, 25, 25, 25, 29, 29, 29]\n"
     ]
    }
   ],
   "source": [
    "# The whole idea of quick sort is to sort the pivots \n",
    "# The pivot is the right most element \n",
    "\n",
    "\n",
    "def quick_sort(arr, left = None, right = None):\n",
    "\n",
    "    if left is None:\n",
    "        left = 0\n",
    "\n",
    "    if right is None:\n",
    "        right = len(arr) - 1\n",
    "\n",
    "    if left >= right:\n",
    "        return arr\n",
    "    \n",
    "    i = left \n",
    "    pivot = arr[right]\n",
    "\n",
    "\n",
    "\n",
    "    print(f\"\\npivot is {pivot}\")\n",
    "    print(f\"quick_sort({arr[left:right + 1]})\")\n",
    "\n",
    "    for j in range(left,right):\n",
    "        if arr[j] < pivot:\n",
    "            arr[i], arr[j] = arr[j], arr[i]\n",
    "            i += 1\n",
    "\n",
    "    print(f\"after moving items based on pivot {arr[left:right + 1]}\")\n",
    "    # Insert the pivot \n",
    "    arr[i], arr[right] = arr[right], arr[i]\n",
    "\n",
    "    print(f\"after moving items based on pivot {arr[left:right + 1]}\")\n",
    "\n",
    "    print(f\"next is  {arr[left : i - 1]} {arr[i + 1 : right + 1]}\")\n",
    "\n",
    "\n",
    "    quick_sort(arr, i + 1, right)\n",
    "    quick_sort(arr, left, i - 1)\n",
    "\n",
    "        \n",
    "\n",
    "quick_sort(unsorted_sample)\n",
    "print(f\"\\nreturned sorted array {unsorted_sample}\")\n"
   ]
  },
  {
   "cell_type": "code",
   "execution_count": 7,
   "metadata": {},
   "outputs": [
    {
     "data": {
      "text/plain": [
       "[7, 26, 9, 14, 9, 24, 20, 22, 18, 29, 20, 12, 12, 21, 17, 11]"
      ]
     },
     "execution_count": 7,
     "metadata": {},
     "output_type": "execute_result"
    }
   ],
   "source": [
    "unsorted_sample = randme.rand_gen(16,30,False,-1)\n",
    "unsorted_sample"
   ]
  },
  {
   "cell_type": "code",
   "execution_count": 8,
   "metadata": {},
   "outputs": [
    {
     "name": "stdout",
     "output_type": "stream",
     "text": [
      "\n",
      "call merge_sort([7, 26, 9, 14, 9, 24, 20, 22, 18, 29, 20, 12, 12, 21, 17, 11])\n",
      "A1 = [7, 26, 9, 14, 9, 24, 20, 22] A2 = [18, 29, 20, 12, 12, 21, 17, 11] \n",
      "\n",
      "call merge_sort([7, 26, 9, 14, 9, 24, 20, 22])\n",
      "A1 = [7, 26, 9, 14] A2 = [9, 24, 20, 22] \n",
      "\n",
      "call merge_sort([7, 26, 9, 14])\n",
      "A1 = [7, 26] A2 = [9, 14] \n",
      "\n",
      "call merge_sort([7, 26])\n",
      "A1 = [7] A2 = [26] \n",
      "to sort [7] and [26]\n",
      "sorted [7, 26]\n",
      "\n",
      "call merge_sort([9, 14])\n",
      "A1 = [9] A2 = [14] \n",
      "to sort [9] and [14]\n",
      "sorted [9, 14]\n",
      "to sort [7, 26] and [9, 14]\n",
      "sorted [7, 9, 14, 26]\n",
      "\n",
      "call merge_sort([9, 24, 20, 22])\n",
      "A1 = [9, 24] A2 = [20, 22] \n",
      "\n",
      "call merge_sort([9, 24])\n",
      "A1 = [9] A2 = [24] \n",
      "to sort [9] and [24]\n",
      "sorted [9, 24]\n",
      "\n",
      "call merge_sort([20, 22])\n",
      "A1 = [20] A2 = [22] \n",
      "to sort [20] and [22]\n",
      "sorted [20, 22]\n",
      "to sort [9, 24] and [20, 22]\n",
      "sorted [9, 20, 22, 24]\n",
      "to sort [7, 9, 14, 26] and [9, 20, 22, 24]\n",
      "sorted [7, 9, 9, 14, 20, 22, 24, 26]\n",
      "\n",
      "call merge_sort([18, 29, 20, 12, 12, 21, 17, 11])\n",
      "A1 = [18, 29, 20, 12] A2 = [12, 21, 17, 11] \n",
      "\n",
      "call merge_sort([18, 29, 20, 12])\n",
      "A1 = [18, 29] A2 = [20, 12] \n",
      "\n",
      "call merge_sort([18, 29])\n",
      "A1 = [18] A2 = [29] \n",
      "to sort [18] and [29]\n",
      "sorted [18, 29]\n",
      "\n",
      "call merge_sort([20, 12])\n",
      "A1 = [20] A2 = [12] \n",
      "to sort [20] and [12]\n",
      "sorted [12, 20]\n",
      "to sort [18, 29] and [12, 20]\n",
      "sorted [12, 18, 20, 29]\n",
      "\n",
      "call merge_sort([12, 21, 17, 11])\n",
      "A1 = [12, 21] A2 = [17, 11] \n",
      "\n",
      "call merge_sort([12, 21])\n",
      "A1 = [12] A2 = [21] \n",
      "to sort [12] and [21]\n",
      "sorted [12, 21]\n",
      "\n",
      "call merge_sort([17, 11])\n",
      "A1 = [17] A2 = [11] \n",
      "to sort [17] and [11]\n",
      "sorted [11, 17]\n",
      "to sort [12, 21] and [11, 17]\n",
      "sorted [11, 12, 17, 21]\n",
      "to sort [12, 18, 20, 29] and [11, 12, 17, 21]\n",
      "sorted [11, 12, 12, 17, 18, 20, 21, 29]\n",
      "to sort [7, 9, 9, 14, 20, 22, 24, 26] and [11, 12, 12, 17, 18, 20, 21, 29]\n",
      "sorted [7, 9, 9, 11, 12, 12, 14, 17, 18, 20, 20, 21, 22, 24, 26, 29]\n"
     ]
    },
    {
     "data": {
      "text/plain": [
       "[7, 9, 9, 11, 12, 12, 14, 17, 18, 20, 20, 21, 22, 24, 26, 29]"
      ]
     },
     "execution_count": 8,
     "metadata": {},
     "output_type": "execute_result"
    }
   ],
   "source": [
    "def merge_sort(arr):\n",
    "\n",
    "    if len(arr) < 2:\n",
    "        return arr\n",
    "    \n",
    "    print(f\"\\ncall merge_sort({arr})\")\n",
    "    print(f\"A1 = {arr[:len(arr)//2]} A2 = {arr[len(arr)//2:]} \")\n",
    "    \n",
    "    A1 = merge_sort(arr[:len(arr)//2])\n",
    "    A2 = merge_sort(arr[len(arr)//2:])\n",
    "\n",
    "    del arr[:]\n",
    "    # You can use:\n",
    "    # result = [] \n",
    "    # for all the following arr this will work,\n",
    "    # but we can reuse arr too since we don't need it \n",
    "\n",
    "\n",
    "    print(f\"to sort {A1} and {A2}\")\n",
    "\n",
    "\n",
    "    while len(A1) + len(A2) > 0:\n",
    "        if len(A2) == 0 or (len(A1)> 0 and A1[0] < A2[0]):\n",
    "            arr.append(A1.pop(0))\n",
    "        else: arr.append(A2.pop(0))\n",
    "\n",
    "    print(f\"sorted {arr}\")\n",
    "\n",
    "    return arr\n",
    "\n",
    "\n",
    "\n",
    "merge_sort(unsorted_sample)"
   ]
  }
 ],
 "metadata": {
  "kernelspec": {
   "display_name": "py3jp",
   "language": "python",
   "name": "python3"
  },
  "language_info": {
   "codemirror_mode": {
    "name": "ipython",
    "version": 3
   },
   "file_extension": ".py",
   "mimetype": "text/x-python",
   "name": "python",
   "nbconvert_exporter": "python",
   "pygments_lexer": "ipython3",
   "version": "3.12.2"
  }
 },
 "nbformat": 4,
 "nbformat_minor": 2
}
