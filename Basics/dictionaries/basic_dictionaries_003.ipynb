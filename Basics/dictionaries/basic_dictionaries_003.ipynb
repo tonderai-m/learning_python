{
 "cells": [
  {
   "cell_type": "code",
   "execution_count": 1,
   "metadata": {},
   "outputs": [
    {
     "name": "stdout",
     "output_type": "stream",
     "text": [
      "1ValuesView(ChainMap({'a': 1, 'b': 2}, {'c': 3, 'd': 4}, {'e': 5, 'f': 6}, {'a': 5, 'f': 6}))KeysView(ChainMap({'a': 1, 'b': 2}, {'c': 3, 'd': 4}, {'e': 5, 'f': 6}, {'a': 5, 'f': 6}))"
     ]
    }
   ],
   "source": [
    "from collections import ChainMap \n",
    "import random\n",
    "    \n",
    "d1 = {'a': 1, 'b': 2}\n",
    "d2 = {'c': 3, 'd': 4}\n",
    "d3 = {'e': 5, 'f': 6}\n",
    "d4 = {'a': 5, 'f': 6}\n",
    "\n",
    "v = [{'a': 1, 'b': 2},\n",
    "        {'c': 3, 'd': 4},\n",
    "        {'e': 5, 'f': 6},\n",
    "        {'h': 5, 'i': 6}]\n",
    "\n",
    "c = ChainMap(d1, d2, d3, d4) \n",
    "   \n",
    "\n",
    "b = ChainMap(*v)\n",
    "# Accessing Values using key name\n",
    "print(c['a'], end=\"\")\n",
    "\n",
    "print(c.values(), end=\"\")\n",
    "\n",
    "print(c.keys(), end=\"\")"
   ]
  },
  {
   "cell_type": "code",
   "execution_count": 2,
   "metadata": {},
   "outputs": [
    {
     "data": {
      "text/plain": [
       "{'a': 1, 'f': 6, 'e': 5, 'c': 3, 'd': 4, 'b': 2}"
      ]
     },
     "execution_count": 2,
     "metadata": {},
     "output_type": "execute_result"
    }
   ],
   "source": [
    "dict(c)"
   ]
  },
  {
   "cell_type": "code",
   "execution_count": 3,
   "metadata": {},
   "outputs": [
    {
     "data": {
      "text/plain": [
       "{'h': 5, 'i': 6, 'e': 5, 'f': 6, 'c': 3, 'd': 4, 'a': 1, 'b': 2}"
      ]
     },
     "execution_count": 3,
     "metadata": {},
     "output_type": "execute_result"
    }
   ],
   "source": [
    "dict(b)"
   ]
  },
  {
   "cell_type": "code",
   "execution_count": 4,
   "metadata": {},
   "outputs": [
    {
     "data": {
      "text/plain": [
       "['f', 'e', 'd']"
      ]
     },
     "execution_count": 4,
     "metadata": {},
     "output_type": "execute_result"
    }
   ],
   "source": [
    "[i for i,j in c.items() if j > 3]"
   ]
  }
 ],
 "metadata": {
  "kernelspec": {
   "display_name": "new_ml_practice",
   "language": "python",
   "name": "python3"
  },
  "language_info": {
   "codemirror_mode": {
    "name": "ipython",
    "version": 3
   },
   "file_extension": ".py",
   "mimetype": "text/x-python",
   "name": "python",
   "nbconvert_exporter": "python",
   "pygments_lexer": "ipython3",
   "version": "3.11.9"
  }
 },
 "nbformat": 4,
 "nbformat_minor": 2
}
