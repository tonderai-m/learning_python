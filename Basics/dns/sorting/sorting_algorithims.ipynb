{
 "cells": [
  {
   "cell_type": "code",
   "execution_count": 1,
   "metadata": {},
   "outputs": [],
   "source": [
    "from func import functions as randme"
   ]
  },
  {
   "cell_type": "code",
   "execution_count": 2,
   "metadata": {},
   "outputs": [
    {
     "data": {
      "text/plain": [
       "[13, 16, 14, 6, -9, 16, -17, 15, -18, 1, -16, -12, -18, 14, 19]"
      ]
     },
     "execution_count": 2,
     "metadata": {},
     "output_type": "execute_result"
    }
   ],
   "source": [
    "freesample = randme.rand_gen(15,20,False,-20)\n",
    "freesample"
   ]
  },
  {
   "cell_type": "code",
   "execution_count": 11,
   "metadata": {},
   "outputs": [
    {
     "name": "stdout",
     "output_type": "stream",
     "text": [
      "current {-18: 2, -17: 1, -16: 1, -12: 1, -9: 1, 1: 1, 6: 1, 13: 1, 14: 2, 15: 1, 16: 2, 19: 1}\n",
      "\n",
      "current number -18\n",
      "arr[0] == -18\n",
      "arr[1] == -18\n",
      "current number -17\n",
      "arr[2] == -17\n",
      "current number -16\n",
      "arr[3] == -16\n",
      "current number -15\n",
      "current number -14\n",
      "current number -13\n",
      "current number -12\n",
      "arr[4] == -12\n",
      "current number -11\n",
      "current number -10\n",
      "current number -9\n",
      "arr[5] == -9\n",
      "current number -8\n",
      "current number -7\n",
      "current number -6\n",
      "current number -5\n",
      "current number -4\n",
      "current number -3\n",
      "current number -2\n",
      "current number -1\n",
      "current number 0\n",
      "current number 1\n",
      "arr[6] == 1\n",
      "current number 2\n",
      "current number 3\n",
      "current number 4\n",
      "current number 5\n",
      "current number 6\n",
      "arr[7] == 6\n",
      "current number 7\n",
      "current number 8\n",
      "current number 9\n",
      "current number 10\n",
      "current number 11\n",
      "current number 12\n",
      "current number 13\n",
      "arr[8] == 13\n",
      "current number 14\n",
      "arr[9] == 14\n",
      "arr[10] == 14\n",
      "current number 15\n",
      "arr[11] == 15\n",
      "current number 16\n",
      "arr[12] == 16\n",
      "arr[13] == 16\n",
      "current number 17\n",
      "current number 18\n",
      "current number 19\n",
      "arr[14] == 19\n",
      "\n",
      "anwer: [-18, -18, -17, -16, -12, -9, 1, 6, 13, 14, 14, 15, 16, 16, 19]\n"
     ]
    }
   ],
   "source": [
    "# This is a count sort algorithm it uses a hash table \n",
    "\n",
    "def count_sort(arr):\n",
    "\n",
    "    hsh = {}\n",
    "\n",
    "    amax = arr[0]\n",
    "    amin = arr[0]\n",
    "\n",
    "    idx = 0\n",
    "\n",
    "    for i in arr:\n",
    "        if i > amax:\n",
    "            amax = i \n",
    "        if i < amin:\n",
    "            amin = i\n",
    "        if i in hsh:\n",
    "            hsh[i] += 1\n",
    "        else: \n",
    "            hsh[i] = 1\n",
    "   \n",
    "    print(f\"current {hsh}\\n\")\n",
    "\n",
    "    while amin < amax + 1:\n",
    "\n",
    "        print(f\"current number {amin}\")\n",
    "\n",
    "        if amin in hsh:\n",
    "            for i in range(idx, idx + hsh[amin]):\n",
    "\n",
    "                print(f\"arr[{i}] == {amin}\")\n",
    "\n",
    "                arr[i] = amin\n",
    "        idx = i + 1\n",
    "        amin += 1\n",
    "\n",
    "    print(f\"\\nanwer: {freesample}\")\n",
    "    \n",
    "\n",
    "count_sort(freesample)"
   ]
  }
 ],
 "metadata": {
  "kernelspec": {
   "display_name": "py3jp",
   "language": "python",
   "name": "python3"
  },
  "language_info": {
   "codemirror_mode": {
    "name": "ipython",
    "version": 3
   },
   "file_extension": ".py",
   "mimetype": "text/x-python",
   "name": "python",
   "nbconvert_exporter": "python",
   "pygments_lexer": "ipython3",
   "version": "3.12.2"
  }
 },
 "nbformat": 4,
 "nbformat_minor": 2
}
