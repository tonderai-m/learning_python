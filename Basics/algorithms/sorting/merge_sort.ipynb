{
 "cells": [
  {
   "cell_type": "markdown",
   "metadata": {},
   "source": [
    "#### lets make a merge list "
   ]
  },
  {
   "cell_type": "code",
   "execution_count": 2,
   "metadata": {},
   "outputs": [],
   "source": [
    "import func.functions\n"
   ]
  },
  {
   "cell_type": "code",
   "execution_count": 29,
   "metadata": {},
   "outputs": [],
   "source": [
    "i,j,k = 0,0,0\n",
    "lst = [0]*len(arr)\n",
    "while i < len(a1) and j < len(a2):\n",
    "    if a1[i] < a2[j]:\n",
    "        lst[k] = a1[i]\n",
    "        i += 1\n",
    "        k += 1\n",
    "    else: \n",
    "        lst[k] = a2[j]\n",
    "        j += 1\n",
    "        k += 1\n",
    "\n",
    "while i < len(a1): \n",
    "        lst[k] = a1[i]\n",
    "        i += 1\n",
    "        k += 1\n",
    "\n",
    "while j < len(a2):\n",
    "        lst[k] = a2[j]\n",
    "        j += 1\n",
    "        k += 1\n",
    "\n"
   ]
  },
  {
   "cell_type": "code",
   "execution_count": 30,
   "metadata": {},
   "outputs": [
    {
     "data": {
      "text/plain": [
       "[0, 0, 2, 5, 12, 19, 20, 26, 30, 35, 38, 53, 61, 62, 67, 72, 84, 87, 89, 92]"
      ]
     },
     "execution_count": 30,
     "metadata": {},
     "output_type": "execute_result"
    }
   ],
   "source": [
    "lst"
   ]
  },
  {
   "cell_type": "code",
   "execution_count": null,
   "metadata": {},
   "outputs": [],
   "source": [
    "def fib(x):\n",
    "    if x < 2:\n",
    "        return 1\n",
    "    return fib(x-1) + fib(x-2)\n",
    "\n",
    "def series_fib(x):\n",
    "    arr = [0,1]\n",
    "    for i in range(x):\n",
    "        arr.append(arr[-1] + arr[-2])\n",
    "    return arr[-1]\n",
    "\n",
    "def fib_l(x):\n",
    "    a,b = 0, 1\n",
    "    for i in range(x):\n",
    "        b,a= b+a, b\n",
    "    return b"
   ]
  },
  {
   "cell_type": "code",
   "execution_count": 101,
   "metadata": {},
   "outputs": [
    {
     "data": {
      "text/plain": [
       "8"
      ]
     },
     "execution_count": 101,
     "metadata": {},
     "output_type": "execute_result"
    }
   ],
   "source": [
    "fib(5)"
   ]
  },
  {
   "cell_type": "code",
   "execution_count": 27,
   "metadata": {},
   "outputs": [
    {
     "data": {
      "text/plain": [
       "'siht'"
      ]
     },
     "execution_count": 27,
     "metadata": {},
     "output_type": "execute_result"
    }
   ],
   "source": [
    "s = \"this\"\n",
    "def string_reverse(s):\n",
    "\n",
    "    if s == \"\":\n",
    "        return \"\"\n",
    "    \n",
    "    return string_reverse(s[1:]) + s[0]\n",
    "\n",
    "\n",
    "string_reverse(s)"
   ]
  },
  {
   "cell_type": "code",
   "execution_count": 26,
   "metadata": {},
   "outputs": [
    {
     "data": {
      "text/plain": [
       "'t'"
      ]
     },
     "execution_count": 26,
     "metadata": {},
     "output_type": "execute_result"
    }
   ],
   "source": [
    "\"this\"[:1]"
   ]
  },
  {
   "cell_type": "code",
   "execution_count": null,
   "metadata": {},
   "outputs": [],
   "source": [
    "def merge(arr,):\n",
    "\n",
    "\n",
    "    print(arr)\n",
    "\n",
    "\n",
    "merge(arr)"
   ]
  },
  {
   "cell_type": "code",
   "execution_count": null,
   "metadata": {},
   "outputs": [],
   "source": []
  },
  {
   "cell_type": "code",
   "execution_count": 29,
   "metadata": {},
   "outputs": [
    {
     "name": "stdout",
     "output_type": "stream",
     "text": [
      "[-90, 1, 2, 3, 4, 4, 5, 9, 9, 89]\n"
     ]
    }
   ],
   "source": [
    "# Selection sort\n",
    "\n",
    "def select_sort(arr):\n",
    "    \n",
    "    for i in range(len(arr)):\n",
    "        for j in range(i,len(arr)):\n",
    "            if arr[i] > arr[j]:\n",
    "                arr[i], arr[j] = arr[j], arr[i]\n",
    "\n",
    "    print(arr)\n",
    "\n",
    "select_sort([3,5,4,2,9,4,9,89,1,-90])"
   ]
  },
  {
   "cell_type": "code",
   "execution_count": 49,
   "metadata": {},
   "outputs": [
    {
     "name": "stdout",
     "output_type": "stream",
     "text": [
      "[89, 1, 2, 3, 4, 4, 5, 9, 9, -90]\n"
     ]
    }
   ],
   "source": [
    "# inset sort \n",
    "k =[]\n",
    "def inset_sort(arr):\n",
    "\n",
    "    for i in range(len(arr)):\n",
    "\n",
    "        j = i \n",
    "        k = arr[i]\n",
    "\n",
    "        while j > -1 and j < len(arr):\n",
    "\n",
    "\n",
    "    print(arr)\n",
    "\n",
    "inset_sort([3,5,4,2,9,4,9,89,1,-90])\n"
   ]
  },
  {
   "cell_type": "code",
   "execution_count": 41,
   "metadata": {},
   "outputs": [
    {
     "data": {
      "text/plain": [
       "-90"
      ]
     },
     "execution_count": 41,
     "metadata": {},
     "output_type": "execute_result"
    }
   ],
   "source": [
    "min(k)"
   ]
  },
  {
   "cell_type": "code",
   "execution_count": 3,
   "metadata": {},
   "outputs": [
    {
     "data": {
      "text/plain": [
       "['3455']"
      ]
     },
     "execution_count": 3,
     "metadata": {},
     "output_type": "execute_result"
    }
   ],
   "source": [
    "f"
   ]
  },
  {
   "cell_type": "code",
   "execution_count": 1,
   "metadata": {},
   "outputs": [
    {
     "data": {
      "text/plain": [
       "['1', '5', '6', '6', '5']"
      ]
     },
     "execution_count": 1,
     "metadata": {},
     "output_type": "execute_result"
    }
   ],
   "source": [
    "[ \"\" + str(i) for i in [1,5,6,6,5] ]"
   ]
  },
  {
   "cell_type": "code",
   "execution_count": null,
   "metadata": {},
   "outputs": [],
   "source": []
  }
 ],
 "metadata": {
  "kernelspec": {
   "display_name": "py3jp",
   "language": "python",
   "name": "python3"
  },
  "language_info": {
   "codemirror_mode": {
    "name": "ipython",
    "version": 3
   },
   "file_extension": ".py",
   "mimetype": "text/x-python",
   "name": "python",
   "nbconvert_exporter": "python",
   "pygments_lexer": "ipython3",
   "version": "3.12.2"
  }
 },
 "nbformat": 4,
 "nbformat_minor": 2
}
