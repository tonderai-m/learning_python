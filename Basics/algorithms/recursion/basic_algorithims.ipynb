{
 "cells": [
  {
   "cell_type": "code",
   "execution_count": 1,
   "metadata": {},
   "outputs": [],
   "source": [
    "import func.functions as randme "
   ]
  },
  {
   "cell_type": "code",
   "execution_count": 61,
   "metadata": {},
   "outputs": [
    {
     "name": "stdout",
     "output_type": "stream",
     "text": [
      "[1, 4, 8, 11, 13, 14, 15, 16, 19, 19, 45, 76]\n",
      "[1, 4, 8, 11, 13]\n",
      "[11, 13]\n",
      "we found you num it's 13 and located at index 4\n"
     ]
    }
   ],
   "source": [
    "def binarySearchMe(lst,num,left=None, right=None):\n",
    "    # The reason for left and right is that we don't want to alter the list\n",
    "    # Merge sort you need to change the list\n",
    "    if left is None:\n",
    "        left = 0\n",
    "    if right is None:\n",
    "        right = len(lst) - 1\n",
    "\n",
    "    print(lst[left:right])\n",
    "\n",
    "    if left > right:\n",
    "        print(f\"we found nothing in the search\")\n",
    "        return None \n",
    "    \n",
    "    mid = (left + right) // 2\n",
    "\n",
    "    if lst[mid] == num:\n",
    "        print(f\"we found you num it's {num} and located at index {mid}\")\n",
    "        return mid\n",
    "    \n",
    "    if lst[mid] > num:\n",
    "        binarySearchMe(lst,num,left, mid - 1)\n",
    "    else: \n",
    "        binarySearchMe(lst,num,mid + 1, right)\n",
    "\n",
    "\n",
    "binarySearchMe([1, 4, 8, 11, 13,14,15, 16, 19, 19,45,76,90,],13)\n"
   ]
  },
  {
   "cell_type": "code",
   "execution_count": 73,
   "metadata": {},
   "outputs": [
    {
     "name": "stdout",
     "output_type": "stream",
     "text": [
      "[7, 6, 5, 4, 3, 2, 1, 0]\n"
     ]
    }
   ],
   "source": [
    "def quicksortMe(arr, left=None, right=None):\n",
    "    if left is None:\n",
    "        left = 0\n",
    "\n",
    "    if right is None: \n",
    "        right = len(arr) - 1\n",
    "\n",
    "    # Base Case\n",
    "    if left >= right :\n",
    "        return \n",
    "    \n",
    "    i = left \n",
    "    # pivot = arr[right]\n",
    "    for j in range(left,right):\n",
    "        if arr[j] > arr[right]:\n",
    "            arr[j], arr[i] = arr[i], arr[j]\n",
    "            i += 1\n",
    "    arr[right], arr[i] = arr[i], arr[right] \n",
    "\n",
    "    quicksortMe(arr,left, i - 1)\n",
    "    quicksortMe(arr, i + 1, right)\n",
    "\n",
    "k = [0, 7, 6, 3, 1, 2, 5, 4]  \n",
    "quicksortMe(k)\n",
    "print(k)"
   ]
  },
  {
   "cell_type": "code",
   "execution_count": 4,
   "metadata": {},
   "outputs": [],
   "source": [
    "def quicksort(items, left=None, right=None):\n",
    "    # By default, `left` and `right` span the entire range of `items`:\n",
    "    if left is None:\n",
    "        left = 0 # `left` defaults to the 0 index.\n",
    "    if right is None:\n",
    "        right = len(items) - 1 # `right` defaults to the last index.\n",
    "    \n",
    "    print('\\nquicksort() called on this range:', items[left:right + 1])\n",
    "    print('................The full list is:', items)\n",
    "    if right <= left:\n",
    "    # With only zero or one item, `items` is already sorted.\n",
    "     return # BASE CASE\n",
    "    # START OF THE PARTITIONING\n",
    "    i = left # i starts at the left end of the range.\n",
    "    pivotValue = items[right] # Select the last value for the pivot.\n",
    "    print('....................The pivot is:', pivotValue)\n",
    "    # Iterate up to, but not including, the pivot:\n",
    "    for j in range(left, right):\n",
    "    # If a value is less than the pivot, swap it so that it's on the\n",
    "    # left side of `items`:\n",
    "        if items[j] <= pivotValue:\n",
    "        # Swap these two values:\n",
    "            items[i], items[j] = items[j], items[i]\n",
    "            i += 1\n",
    "    # Put the pivot on the left side of `items`:\n",
    "    items[i], items[right] = items[right], items[i]\n",
    "    # END OF THE PARTITIONING\n",
    "    print('....After swapping, the range is:', items[left:right + 1])\n",
    "    print('Recursively calling quicksort on:', items[left:i], 'and', items[i + 1:right + 1])\n",
    "    # Call quicksort() on the two partitions:\n",
    "    quicksort(items, left, i - 1) # RECURSIVE CASE\n",
    "    quicksort(items, i + 1, right) # RECURSIVE CASE"
   ]
  },
  {
   "cell_type": "code",
   "execution_count": 5,
   "metadata": {},
   "outputs": [
    {
     "name": "stdout",
     "output_type": "stream",
     "text": [
      "\n",
      "quicksort() called on this range: [0, 7, 6, 3, 1, 2, 5, 4]\n",
      "................The full list is: [0, 7, 6, 3, 1, 2, 5, 4]\n",
      "....................The pivot is: 4\n",
      "....After swapping, the range is: [0, 3, 1, 2, 4, 7, 5, 6]\n",
      "Recursively calling quicksort on: [0, 3, 1, 2] and [7, 5, 6]\n",
      "\n",
      "quicksort() called on this range: [0, 3, 1, 2]\n",
      "................The full list is: [0, 3, 1, 2, 4, 7, 5, 6]\n",
      "....................The pivot is: 2\n",
      "....After swapping, the range is: [0, 1, 2, 3]\n",
      "Recursively calling quicksort on: [0, 1] and [3]\n",
      "\n",
      "quicksort() called on this range: [0, 1]\n",
      "................The full list is: [0, 1, 2, 3, 4, 7, 5, 6]\n",
      "....................The pivot is: 1\n",
      "....After swapping, the range is: [0, 1]\n",
      "Recursively calling quicksort on: [0] and []\n",
      "\n",
      "quicksort() called on this range: [0]\n",
      "................The full list is: [0, 1, 2, 3, 4, 7, 5, 6]\n",
      "\n",
      "quicksort() called on this range: []\n",
      "................The full list is: [0, 1, 2, 3, 4, 7, 5, 6]\n",
      "\n",
      "quicksort() called on this range: [3]\n",
      "................The full list is: [0, 1, 2, 3, 4, 7, 5, 6]\n",
      "\n",
      "quicksort() called on this range: [7, 5, 6]\n",
      "................The full list is: [0, 1, 2, 3, 4, 7, 5, 6]\n",
      "....................The pivot is: 6\n",
      "....After swapping, the range is: [5, 6, 7]\n",
      "Recursively calling quicksort on: [5] and [7]\n",
      "\n",
      "quicksort() called on this range: [5]\n",
      "................The full list is: [0, 1, 2, 3, 4, 5, 6, 7]\n",
      "\n",
      "quicksort() called on this range: [7]\n",
      "................The full list is: [0, 1, 2, 3, 4, 5, 6, 7]\n",
      "[0, 1, 2, 3, 4, 5, 6, 7]\n"
     ]
    }
   ],
   "source": [
    "myList = [0, 7, 6, 3, 1, 2, 5, 4]\n",
    "quicksort(myList)\n",
    "print(myList)"
   ]
  },
  {
   "cell_type": "code",
   "execution_count": 6,
   "metadata": {},
   "outputs": [
    {
     "data": {
      "text/plain": [
       "[0, 1, 2, 3, 4, 5, 6, 7]"
      ]
     },
     "execution_count": 6,
     "metadata": {},
     "output_type": "execute_result"
    }
   ],
   "source": [
    "myList"
   ]
  },
  {
   "cell_type": "code",
   "execution_count": 7,
   "metadata": {},
   "outputs": [
    {
     "name": "stdout",
     "output_type": "stream",
     "text": [
      "....................The pivot is: 3\n",
      "[0, 5, 2, 3]\n",
      "[0, 2, 5, 3]\n"
     ]
    }
   ],
   "source": [
    "items = [5,0,2,3]\n",
    "left = 0\n",
    "right = 3\n",
    "i = left # i starts at the left end of the range.\n",
    "pivotValue = items[right] # Select the last value for the pivot.\n",
    "print('....................The pivot is:', pivotValue)\n",
    "# Iterate up to, but not including, the pivot:\n",
    "for j in range(left, right):\n",
    "# If a value is less than the pivot, swap it so that it's on the\n",
    "# left side of `items`:\n",
    "    if items[j] <= pivotValue:\n",
    "    # Swap these two values:\n",
    "        items[i], items[j] = items[j], items[i]\n",
    "        i += 1\n",
    "\n",
    "        print(items)"
   ]
  },
  {
   "cell_type": "code",
   "execution_count": 8,
   "metadata": {},
   "outputs": [],
   "source": [
    "items[i], items[right] = items[right], items[i]"
   ]
  },
  {
   "cell_type": "code",
   "execution_count": 9,
   "metadata": {},
   "outputs": [
    {
     "data": {
      "text/plain": [
       "[0, 2, 3, 5]"
      ]
     },
     "execution_count": 9,
     "metadata": {},
     "output_type": "execute_result"
    }
   ],
   "source": [
    "items"
   ]
  },
  {
   "cell_type": "code",
   "execution_count": 10,
   "metadata": {},
   "outputs": [
    {
     "name": "stdout",
     "output_type": "stream",
     "text": [
      ".....mergeSort() called on: [2, 9, 8, 5, 3, 4, 7, 6]\n",
      "................Split into: [2, 9, 8, 5] and [3, 4, 7, 6]\n",
      ".....mergeSort() called on: [2, 9, 8, 5]\n",
      "................Split into: [2, 9] and [8, 5]\n",
      ".....mergeSort() called on: [2, 9]\n",
      "................Split into: [2] and [9]\n",
      ".....mergeSort() called on: [2]\n",
      ".....mergeSort() called on: [9]\n",
      ".....mergeSort() called on: [8, 5]\n",
      "................Split into: [8] and [5]\n",
      ".....mergeSort() called on: [8]\n",
      ".....mergeSort() called on: [5]\n",
      "The two halves merged into: [2]\n",
      "The two halves merged into: [2, 5]\n",
      ".....mergeSort() called on: [3, 4, 7, 6]\n",
      "................Split into: [3, 4] and [7, 6]\n",
      ".....mergeSort() called on: [3, 4]\n",
      "................Split into: [3] and [4]\n",
      ".....mergeSort() called on: [3]\n",
      ".....mergeSort() called on: [4]\n",
      ".....mergeSort() called on: [7, 6]\n",
      "................Split into: [7] and [6]\n",
      ".....mergeSort() called on: [7]\n",
      ".....mergeSort() called on: [6]\n",
      "The two halves merged into: [3]\n",
      "The two halves merged into: [2]\n",
      "The two halves merged into: [2, 3]\n",
      "The two halves merged into: [2, 3, 4]\n",
      "The two halves merged into: [2, 3, 4, 5]\n",
      "The two halves merged into: [2, 3, 4, 5, 6]\n",
      "[2, 3, 4, 5, 6, 7, 8, 9]\n"
     ]
    }
   ],
   "source": [
    "def mergeSort(items):\n",
    "    print('.....mergeSort() called on:', items)\n",
    "    # BASE CASE - Zero or one item is naturally sorted:\n",
    "    if len(items) == 0 or len(items) == 1:\n",
    "        return items\n",
    "    # RECURSIVE CASE - Pass the left and right halves to mergeSort():\n",
    "    # Round down if items doesn't divide in half evenly:\n",
    "    iMiddle = len(items) // 2\n",
    "    print('................Split into:', items[:iMiddle], 'and', items[iMiddle:])\n",
    "    left = mergeSort(items[:iMiddle])\n",
    "    right = mergeSort(items[iMiddle:])\n",
    "    # BASE CASE - Returned merged, sorted data:\n",
    "    # At this point, left should be sorted and right should be\n",
    "    # sorted. We can merge them into a single sorted list.\n",
    "    sortedResult = []\n",
    "    iLeft = 0\n",
    "    iRight = 0\n",
    "    while (len(sortedResult) < len(items)):\n",
    "        # Append the smaller value to sortedResult.\n",
    "        if left[iLeft] < right[iRight]:\n",
    "            sortedResult.append(left[iLeft])\n",
    "            iLeft += 1\n",
    "        else:\n",
    "            sortedResult.append(right[iRight])\n",
    "            iRight += 1\n",
    "        # If one of the pointers has reached the end of its list,\n",
    "        # put the rest of the other list into sortedResult.\n",
    "        if iLeft == len(left):\n",
    "            sortedResult.extend(right[iRight:])\n",
    "            break\n",
    "        elif iRight == len(right):\n",
    "            sortedResult.extend(left[iLeft:])\n",
    "            break\n",
    "        print('The two halves merged into:', sortedResult)\n",
    "    return sortedResult # Returns a sorted version of items.\n",
    "myList = [2, 9, 8, 5, 3, 4, 7, 6]\n",
    "myList = mergeSort(myList)\n",
    "print(myList)"
   ]
  }
 ],
 "metadata": {
  "kernelspec": {
   "display_name": "py3jp",
   "language": "python",
   "name": "python3"
  },
  "language_info": {
   "codemirror_mode": {
    "name": "ipython",
    "version": 3
   },
   "file_extension": ".py",
   "mimetype": "text/x-python",
   "name": "python",
   "nbconvert_exporter": "python",
   "pygments_lexer": "ipython3",
   "version": "3.12.2"
  }
 },
 "nbformat": 4,
 "nbformat_minor": 2
}
