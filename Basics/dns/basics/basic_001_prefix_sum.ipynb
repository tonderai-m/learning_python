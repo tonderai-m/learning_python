{
 "cells": [
  {
   "cell_type": "markdown",
   "metadata": {},
   "source": [
    "### prefix sum \n",
    "### https://akd3257.medium.com/understanding-the-concept-of-prefix-sum-array-70fb333169a4 \n",
    "### https://leetcode.com/discuss/study-guide/4023666/prefix-sum-questions-to-practice"
   ]
  },
  {
   "cell_type": "code",
   "execution_count": 2,
   "metadata": {},
   "outputs": [],
   "source": [
    "import random "
   ]
  },
  {
   "cell_type": "code",
   "execution_count": 3,
   "metadata": {},
   "outputs": [],
   "source": [
    "def rand_gen(x,y):\n",
    "    return [random.randint(1,y) for i in range(x)]"
   ]
  },
  {
   "cell_type": "code",
   "execution_count": 15,
   "metadata": {},
   "outputs": [
    {
     "data": {
      "text/plain": [
       "[3, 6, 1, 4, 8, 5, 3, 5, 9, 8, 3, 5, 8, 7, 7, 3, 1, 8, 5]"
      ]
     },
     "execution_count": 15,
     "metadata": {},
     "output_type": "execute_result"
    }
   ],
   "source": [
    "arr = rand_gen(19,10)\n",
    "arr"
   ]
  },
  {
   "cell_type": "code",
   "execution_count": 16,
   "metadata": {},
   "outputs": [
    {
     "name": "stdout",
     "output_type": "stream",
     "text": [
      "[3, 9, 10, 14, 22, 27, 30, 35, 44, 52, 55, 60, 68, 75, 82, 85, 86, 94, 99]"
     ]
    }
   ],
   "source": [
    "# This is just summing \n",
    "def prefix_sum(arr):\n",
    "    n = len(arr)\n",
    "    prefix_matrix = [0] * n \n",
    "    prefix_matrix[0] = arr[0]\n",
    "    for i in range(1,n):\n",
    "        prefix_matrix[i] = prefix_matrix[i - 1] + arr[i]\n",
    "\n",
    "    print(prefix_matrix, end=\"\")\n",
    "\n",
    "prefix_sum(arr)"
   ]
  },
  {
   "cell_type": "code",
   "execution_count": 17,
   "metadata": {},
   "outputs": [],
   "source": [
    "def prefix_sum_(arr):\n",
    "    n = len(arr)\n",
    "    ans = [0] * n\n",
    "    sum_me = 0\n",
    "\n",
    "    for i in range(0,n):\n",
    "        ans[i] += arr[i] + sum_me\n",
    "        sum_me += arr[i]\n",
    "\n",
    "    return ans"
   ]
  },
  {
   "cell_type": "code",
   "execution_count": 18,
   "metadata": {},
   "outputs": [
    {
     "data": {
      "text/plain": [
       "[3, 9, 10, 14, 22, 27, 30, 35, 44, 52, 55, 60, 68, 75, 82, 85, 86, 94, 99]"
      ]
     },
     "execution_count": 18,
     "metadata": {},
     "output_type": "execute_result"
    }
   ],
   "source": [
    "prefix_sum_(arr)"
   ]
  },
  {
   "cell_type": "markdown",
   "metadata": {},
   "source": [
    "##### leetcode 238. Product of Array Except Self\n",
    "https://leetcode.com/problems/product-of-array-except-self/description/\n",
    "\n",
    "Given an integer array nums, return an array answer such that answer[i] is equal to the product of all the elements of nums except nums[i].\n",
    "\n",
    "The product of any prefix or suffix of nums is guaranteed to fit in a 32-bit integer.\n",
    "\n",
    "You must write an algorithm that runs in O(n) time and without using the division operation.\n",
    "\n",
    " \n",
    "\n",
    "Example 1:\n",
    "\n",
    "Input: nums = [1,2,3,4]\n",
    "Output: [24,12,8,6]\n",
    "Example 2:\n",
    "\n",
    "Input: nums = [-1,1,0,-3,3]\n",
    "Output: [0,0,9,0,0]\n",
    " \n",
    "\n",
    "Constraints:\n",
    "\n",
    "2 <= nums.length <= 105\n",
    "-30 <= nums[i] <= 30\n",
    "The product of any prefix or suffix of nums is guaranteed to fit in a 32-bit integer.\n",
    " \n",
    "\n",
    "Follow up: Can you solve the problem in O(1) extra space complexity? (The output array does not count as extra space for space complexity analysis.)"
   ]
  },
  {
   "cell_type": "code",
   "execution_count": 7,
   "metadata": {},
   "outputs": [
    {
     "data": {
      "text/plain": [
       "[7, 4, 1, 1, 2, 3, 6, 3]"
      ]
     },
     "execution_count": 7,
     "metadata": {},
     "output_type": "execute_result"
    }
   ],
   "source": [
    "arr = rand_gen(8,7)\n",
    "arr"
   ]
  },
  {
   "cell_type": "code",
   "execution_count": 8,
   "metadata": {},
   "outputs": [
    {
     "name": "stdout",
     "output_type": "stream",
     "text": [
      "[1, 7, 28, 28, 28, 56, 168, 1008] [432, 108, 108, 108, 54, 18, 3, 1] [432, 756, 3024, 3024, 1512, 1008, 504, 1008]\n"
     ]
    }
   ],
   "source": [
    "# Strategy we can multiply everything to the left \n",
    "# and everything to the right \n",
    "# and then multiply the indexes \n",
    "\n",
    "\n",
    "def prod_except_self(arr):\n",
    "    n = len(arr)\n",
    "    R = [1]*n # the first element is 1 \n",
    "    L = [1]*n # the first element is 1\n",
    "    ans = [0]*n\n",
    "\n",
    "    for i in range(1,n):\n",
    "        L[i] *= arr[i-1] * L[i-1] # The arr[i-1] is the current left element * L[i-1] the previous multiplication \n",
    "\n",
    "    for i in range(n-2,-1,-1): \n",
    "        R[i] *= arr[i+1] * R[i+1]\n",
    "        \n",
    "    for i in range(n):\n",
    "        ans[i] = R[i] * L[i]\n",
    "\n",
    "    print(L,R, ans)\n",
    "\n",
    "    \n",
    "\n",
    "prod_except_self(arr)"
   ]
  },
  {
   "cell_type": "code",
   "execution_count": 9,
   "metadata": {},
   "outputs": [
    {
     "data": {
      "text/plain": [
       "[0, 1, 2, 3, 4]"
      ]
     },
     "execution_count": 9,
     "metadata": {},
     "output_type": "execute_result"
    }
   ],
   "source": [
    "list(range(5))"
   ]
  },
  {
   "cell_type": "code",
   "execution_count": 10,
   "metadata": {},
   "outputs": [
    {
     "data": {
      "text/plain": [
       "[5, 4, 3, 2, 1, 0]"
      ]
     },
     "execution_count": 10,
     "metadata": {},
     "output_type": "execute_result"
    }
   ],
   "source": [
    "list(range(5,-1,-1))"
   ]
  },
  {
   "cell_type": "code",
   "execution_count": 11,
   "metadata": {},
   "outputs": [
    {
     "data": {
      "text/plain": [
       "[1, 1, 3, 3]"
      ]
     },
     "execution_count": 11,
     "metadata": {},
     "output_type": "execute_result"
    }
   ],
   "source": [
    "arr = rand_gen(4,3)\n",
    "arr"
   ]
  },
  {
   "cell_type": "code",
   "execution_count": 12,
   "metadata": {},
   "outputs": [],
   "source": [
    "# Best solution from the past the idea is \n",
    "# to precalculate and update in the following loop \n",
    "def productExceptSelf(nums: list[int]) -> list[int]:\n",
    "        result = [0] * len(nums)\n",
    "        prefix = 1\n",
    "        suffix = 1\n",
    "        for i in range(len(nums)):\n",
    "            result[i] = prefix\n",
    "            prefix *= nums[i]\n",
    "        for i in range(len(nums) - 1, -1, -1):\n",
    "            result[i] *= suffix\n",
    "            suffix *= nums[i] \n",
    "        return result   "
   ]
  },
  {
   "cell_type": "code",
   "execution_count": 13,
   "metadata": {},
   "outputs": [
    {
     "data": {
      "text/plain": [
       "[9, 9, 3, 3]"
      ]
     },
     "execution_count": 13,
     "metadata": {},
     "output_type": "execute_result"
    }
   ],
   "source": [
    "productExceptSelf(arr)"
   ]
  }
 ],
 "metadata": {
  "kernelspec": {
   "display_name": "py3jp",
   "language": "python",
   "name": "python3"
  },
  "language_info": {
   "codemirror_mode": {
    "name": "ipython",
    "version": 3
   },
   "file_extension": ".py",
   "mimetype": "text/x-python",
   "name": "python",
   "nbconvert_exporter": "python",
   "pygments_lexer": "ipython3",
   "version": "3.12.2"
  }
 },
 "nbformat": 4,
 "nbformat_minor": 2
}
