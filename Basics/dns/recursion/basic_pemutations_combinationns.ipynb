{
 "cells": [
  {
   "cell_type": "markdown",
   "metadata": {},
   "source": [
    "Lets understand the structure and go with it\n",
    "Lets start with string reversal"
   ]
  },
  {
   "cell_type": "code",
   "execution_count": 1,
   "metadata": {},
   "outputs": [
    {
     "name": "stdout",
     "output_type": "stream",
     "text": [
      "string_reversal(onderai madamba) counter = 1\n",
      "string_reversal(nderai madamba) counter = 2\n",
      "string_reversal(derai madamba) counter = 3\n",
      "string_reversal(erai madamba) counter = 4\n",
      "string_reversal(rai madamba) counter = 5\n",
      "string_reversal(ai madamba) counter = 6\n",
      "string_reversal(i madamba) counter = 7\n",
      "string_reversal( madamba) counter = 8\n",
      "string_reversal(madamba) counter = 9\n",
      "string_reversal(adamba) counter = 10\n",
      "string_reversal(damba) counter = 11\n",
      "string_reversal(amba) counter = 12\n",
      "string_reversal(mba) counter = 13\n",
      "string_reversal(ba) counter = 14\n",
      "string_reversal(a) counter = 15\n",
      "string_reversal() counter = 16\n",
      "  for a and counter 16\n",
      " a for b and counter 15\n",
      " ab for m and counter 14\n",
      " abm for a and counter 13\n",
      " abma for d and counter 12\n",
      " abmad for a and counter 11\n",
      " abmada for m and counter 10\n",
      " abmadam for   and counter 9\n",
      " abmadam  for i and counter 8\n",
      " abmadam i for a and counter 7\n",
      " abmadam ia for r and counter 6\n",
      " abmadam iar for e and counter 5\n",
      " abmadam iare for d and counter 4\n",
      " abmadam iared for n and counter 3\n",
      " abmadam iaredn for o and counter 2\n",
      " abmadam iaredno for t and counter 1\n"
     ]
    },
    {
     "data": {
      "text/plain": [
       "'abmadam iarednot'"
      ]
     },
     "execution_count": 1,
     "metadata": {},
     "output_type": "execute_result"
    }
   ],
   "source": [
    "def string_reversal(s,count=0):\n",
    "    if s == \"\":\n",
    "        return \"\"\n",
    "        \n",
    "    count += 1\n",
    "    head = s[0]\n",
    "\n",
    "    print(f\"string_reversal({s[1:]}) counter = {count}\")\n",
    "    tail = string_reversal(s[1:], count)\n",
    "    # to reverse a string you need TAIL + Head = reverse \n",
    "\n",
    "    print(f\" {tail} for {head} and counter {count}\")\n",
    "    return tail + head\n",
    "\n",
    "string_reversal(\"tonderai madamba\")"
   ]
  },
  {
   "cell_type": "code",
   "execution_count": 2,
   "metadata": {},
   "outputs": [
    {
     "data": {
      "text/plain": [
       "['this is good', 0, 8, 4]"
      ]
     },
     "execution_count": 2,
     "metadata": {},
     "output_type": "execute_result"
    }
   ],
   "source": [
    "def reverse_list(lst):\n",
    "    if lst == []:\n",
    "        return []\n",
    "    \n",
    "    return  reverse_list(lst[1:]) + [lst[0]]\n",
    "\n",
    "# as you can see same idea using tail and head method \n",
    "reverse_list([4,8,0,\"this is good\"])"
   ]
  },
  {
   "cell_type": "code",
   "execution_count": 3,
   "metadata": {},
   "outputs": [
    {
     "data": {
      "text/plain": [
       "['ab', 'ba']"
      ]
     },
     "execution_count": 3,
     "metadata": {},
     "output_type": "execute_result"
    }
   ],
   "source": [
    "# This code works to get the next following perm form a to ab ba to ......\n",
    "permutation = []\n",
    "\n",
    "for tailPerm in ['b']:\n",
    "    for i in range(len(tailPerm) + 1):\n",
    "            newPerm = tailPerm[0:i] + 'a' + tailPerm[i:]\n",
    "            permutation.append(newPerm)\n",
    "\n",
    "permutation    "
   ]
  },
  {
   "cell_type": "code",
   "execution_count": 4,
   "metadata": {},
   "outputs": [
    {
     "name": "stdout",
     "output_type": "stream",
     "text": [
      "In this cycle head = B, tail = C, perms = ['BC', 'CB']\n",
      "In this cycle head = A, tail = BC, perms = ['ABC', 'BAC', 'BCA', 'ACB', 'CAB', 'CBA']\n"
     ]
    },
    {
     "data": {
      "text/plain": [
       "['ABC', 'BAC', 'BCA', 'ACB', 'CAB', 'CBA']"
      ]
     },
     "execution_count": 4,
     "metadata": {},
     "output_type": "execute_result"
    }
   ],
   "source": [
    "def permutations(chars):\n",
    "\n",
    "    if len(chars) == 1:\n",
    "        return [chars]\n",
    "    \n",
    "    head = chars[0]\n",
    "    tail = chars[1:]\n",
    "    perms = []\n",
    "\n",
    "    # All  that matters is that there's always going to be a head and tail in memory\n",
    "    for tailPerm in permutations(tail): \n",
    "        # This is just to explode the permutation into the next from previous when returns \n",
    "        for i in range(len(tailPerm) + 1):\n",
    "            \n",
    "            perms.append(tailPerm[:i] + head + tailPerm[i:])\n",
    "    \n",
    "    print(f\"In this cycle head = {head}, tail = {tail}, perms = {perms}\")\n",
    "    return perms\n",
    "\n",
    "permutations(\"ABC\")\n"
   ]
  }
 ],
 "metadata": {
  "kernelspec": {
   "display_name": "py3jp",
   "language": "python",
   "name": "python3"
  },
  "language_info": {
   "codemirror_mode": {
    "name": "ipython",
    "version": 3
   },
   "file_extension": ".py",
   "mimetype": "text/x-python",
   "name": "python",
   "nbconvert_exporter": "python",
   "pygments_lexer": "ipython3",
   "version": "3.12.2"
  }
 },
 "nbformat": 4,
 "nbformat_minor": 2
}
