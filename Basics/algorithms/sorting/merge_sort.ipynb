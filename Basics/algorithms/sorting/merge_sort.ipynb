{
 "cells": [
  {
   "cell_type": "code",
   "execution_count": 1,
   "metadata": {},
   "outputs": [],
   "source": [
    "import random"
   ]
  },
  {
   "cell_type": "code",
   "execution_count": 10,
   "metadata": {},
   "outputs": [],
   "source": [
    "arr = [1, 4, 5, 14, 18, 25, 30]\n",
    "arr2 = [2, 4, 6, 7, 8, 18, 45]"
   ]
  },
  {
   "cell_type": "code",
   "execution_count": 11,
   "metadata": {},
   "outputs": [],
   "source": [
    "lst = []\n",
    "i,k = 0,0\n",
    "while i < len(arr) and k < len(arr2):\n",
    "    if arr[i] <= arr[k]:\n",
    "        lst.append(arr[i])\n",
    "        i += 1 \n",
    "    else: \n",
    "        lst.append(arr2[k])\n",
    "        k += 1\n"
   ]
  },
  {
   "cell_type": "code",
   "execution_count": 12,
   "metadata": {},
   "outputs": [
    {
     "data": {
      "text/plain": [
       "[1, 2, 4, 4, 5, 6, 14, 7, 18, 8, 25, 18, 30]"
      ]
     },
     "execution_count": 12,
     "metadata": {},
     "output_type": "execute_result"
    }
   ],
   "source": [
    "lst"
   ]
  }
 ],
 "metadata": {
  "kernelspec": {
   "display_name": "py3jp",
   "language": "python",
   "name": "python3"
  },
  "language_info": {
   "codemirror_mode": {
    "name": "ipython",
    "version": 3
   },
   "file_extension": ".py",
   "mimetype": "text/x-python",
   "name": "python",
   "nbconvert_exporter": "python",
   "pygments_lexer": "ipython3",
   "version": "3.12.2"
  }
 },
 "nbformat": 4,
 "nbformat_minor": 2
}
